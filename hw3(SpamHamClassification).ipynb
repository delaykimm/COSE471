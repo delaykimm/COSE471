{
  "cells": [
    {
      "cell_type": "markdown",
      "metadata": {
        "id": "uchZsTUr-c9r"
      },
      "source": [
        "# HW 3: Spam/Ham Classification\n",
        "## Due Date: 5/31 (Wed), 11:59 PM\n",
        "\n",
        "**Collaboration Policy**\n",
        "\n",
        "Data science is a collaborative activity. While you may talk with others about\n",
        "the project, we ask that you **write your solutions individually**. If you do\n",
        "discuss the assignments with others please **include their names** at the top\n",
        "of your notebook."
      ]
    },
    {
      "cell_type": "markdown",
      "metadata": {
        "id": "BZm3TdH3-c9s"
      },
      "source": [
        "**Collaborators**: *list collaborators here*"
      ]
    },
    {
      "cell_type": "markdown",
      "metadata": {
        "id": "npb43RFZ-c9s"
      },
      "source": [
        "## This Assignment\n",
        "In this homework, you will use what you've learned in class to create a classifier that can distinguish spam (junk or commercial or bulk) emails from ham (non-spam) emails. In addition to providing some skeleton code to fill in, we will evaluate your work based on your model's accuracy and your written responses in this notebook.\n",
        "\n",
        "After this homework, you should feel comfortable with the following:\n",
        "\n",
        "- Part 1: Feature engineering with text data\n",
        "- Part 2: Using sklearn libraries to process data and fit models\n",
        "- Part 3: Validating the performance of your model and minimizing overfitting\n",
        "- Part 3: Generating and analyzing precision-recall curves\n",
        "\n",
        "## <span style=\"color:red\">Warning!</span> \n",
        "We've tried our best to filter the data for anything blatantly offensive as best as we can, but unfortunately there may still be some examples you may find in poor taste. If you encounter these examples and believe it is inappropriate for students, please let a TA know and we will try to remove it for future semesters. Thanks for your understanding!"
      ]
    },
    {
      "cell_type": "markdown",
      "metadata": {
        "id": "zyVLHHS3-c9t"
      },
      "source": [
        "## Score Breakdown\n",
        "Question | Points\n",
        "--- | ---\n",
        "1a | 2\n",
        "1b | 2\n",
        "1c | 2\n",
        "2 | 3\n",
        "3 | 3\n",
        "4 | 3\n",
        "5 | 3\n",
        "6a | 3\n",
        "6b | 3\n",
        "6c | 3\n",
        "6d | 3\n",
        "7 | 4\n",
        "8 | 4\n",
        "Total | 38"
      ]
    },
    {
      "cell_type": "markdown",
      "metadata": {
        "id": "lGGE7QCC-c9t"
      },
      "source": [
        "# Part I - Initial Analysis"
      ]
    },
    {
      "cell_type": "code",
      "execution_count": 1,
      "metadata": {
        "id": "-O2DiZBt-c9t"
      },
      "outputs": [],
      "source": [
        "import numpy as np\n",
        "import pandas as pd\n",
        "import matplotlib.pyplot as plt\n",
        "%matplotlib inline\n",
        "\n",
        "import seaborn as sns\n",
        "sns.set(style = \"whitegrid\", \n",
        "        color_codes = True,\n",
        "        font_scale = 1.5)\n",
        "\n",
        "class bcolor:\n",
        "   BLACK = '\\033[40m'\n",
        "   YELLOW = '\\033[93m'\n",
        "   RED = '\\033[91m'\n",
        "   BOLD = '\\033[1m'\n",
        "   END = '\\033[0m'\n",
        "\n",
        "def print_passed(str_in):\n",
        "  print(bcolor.BLACK + bcolor.YELLOW + bcolor.BOLD + str_in + bcolor.END)"
      ]
    },
    {
      "cell_type": "markdown",
      "metadata": {
        "id": "tOKYwC_X_Tom"
      },
      "source": [
        "## Mount your Google Drive\n",
        "When you run a code cell, Colab executes it on a temporary cloud instance.  Every time you open the notebook, you will be assigned a different machine.  All compute state and files saved on the previous machine will be lost.  Therefore, you may need to re-download datasets or rerun code after a reset. Here, you can mount your Google drive to the temporary cloud instance's local filesystem using the following code snippet and save files under the specified directory (note that you will have to provide permission every time you run this)."
      ]
    },
    {
      "cell_type": "code",
      "execution_count": 2,
      "metadata": {
        "colab": {
          "base_uri": "https://localhost:8080/"
        },
        "id": "JpuWdTnn_QUH",
        "outputId": "09d490d3-073a-475d-dce1-d73976d7d0ff"
      },
      "outputs": [
        {
          "output_type": "stream",
          "name": "stdout",
          "text": [
            "Mounted at /content/drive\n",
            "\n",
            "Number of Google drive files in /content/drive/My Drive/:\n",
            "24\n",
            "\n",
            "Current directory:\n",
            "/content\n"
          ]
        }
      ],
      "source": [
        "# mount Google drive\n",
        "from google.colab import drive\n",
        "drive.mount('/content/drive')\n",
        "\n",
        "# now you can see files\n",
        "!echo -e \"\\nNumber of Google drive files in /content/drive/My Drive/:\"\n",
        "!ls -l \"/content/drive/My Drive/\" | wc -l\n",
        "# by the way, you can run any linux command by putting a ! at the start of the line\n",
        "\n",
        "# by default everything gets executed and saved in /content/\n",
        "!echo -e \"\\nCurrent directory:\"\n",
        "!pwd"
      ]
    },
    {
      "cell_type": "code",
      "execution_count": 3,
      "metadata": {
        "colab": {
          "base_uri": "https://localhost:8080/"
        },
        "id": "phWTu0ph_nhP",
        "outputId": "6047bf4d-3b4e-4bf0-85c3-0d15baa1d782"
      },
      "outputs": [
        {
          "output_type": "stream",
          "name": "stdout",
          "text": [
            "Current Workspace: /content/drive/MyDrive/COSE471\n"
          ]
        }
      ],
      "source": [
        "workspace_path = '/content/drive/MyDrive/COSE471'  # Change this path!\n",
        "print(f'Current Workspace: {workspace_path}')"
      ]
    },
    {
      "cell_type": "markdown",
      "metadata": {
        "id": "7Y2hj5A8-c9u"
      },
      "source": [
        "### Loading in the Data\n",
        "\n",
        "Our goal is to classify emails as spam or not spam (referred to as \"ham\") using features generated from the text in the email. \n",
        "\n",
        "The dataset consists of email messages and their labels (0 for ham, 1 for spam). Your labeled training dataset contains 8348 labeled examples, and the test set contains 1000 unlabeled examples.\n",
        "\n",
        "Run the following cells to load in the data into DataFrames.\n",
        "\n",
        "The `train` DataFrame contains labeled data that you will use to train your model. It contains four columns:\n",
        "\n",
        "1. `id`: An identifier for the training example\n",
        "1. `subject`: The subject of the email\n",
        "1. `email`: The text of the email\n",
        "1. `spam`: 1 if the email is spam, 0 if the email is ham (not spam)\n",
        "\n",
        "The `test` DataFrame contains 1000 unlabeled emails. You will predict labels for these emails and submit your predictions to Kaggle for evaluation."
      ]
    },
    {
      "cell_type": "code",
      "execution_count": 4,
      "metadata": {
        "colab": {
          "base_uri": "https://localhost:8080/",
          "height": 206
        },
        "id": "ybZYxrch-c9u",
        "outputId": "859d5b6c-fe52-43d2-c8f5-4dce60c76048"
      },
      "outputs": [
        {
          "output_type": "execute_result",
          "data": {
            "text/plain": [
              "   id                                            subject  \\\n",
              "0   0  Subject: A&L Daily to be auctioned in bankrupt...   \n",
              "1   1  Subject: Wired: \"Stronger ties between ISPs an...   \n",
              "2   2  Subject: It's just too small                  ...   \n",
              "3   3                      Subject: liberal defnitions\\n   \n",
              "4   4  Subject: RE: [ILUG] Newbie seeks advice - Suse...   \n",
              "\n",
              "                                               email  spam  \n",
              "0  url: http://boingboing.net/#85534171\\n date: n...     0  \n",
              "1  url: http://scriptingnews.userland.com/backiss...     0  \n",
              "2  <html>\\n <head>\\n </head>\\n <body>\\n <font siz...     1  \n",
              "3  depends on how much over spending vs. how much...     0  \n",
              "4  hehe sorry but if you hit caps lock twice the ...     0  "
            ],
            "text/html": [
              "\n",
              "  <div id=\"df-15330bb9-905b-4f04-9f06-4986dd28c97f\">\n",
              "    <div class=\"colab-df-container\">\n",
              "      <div>\n",
              "<style scoped>\n",
              "    .dataframe tbody tr th:only-of-type {\n",
              "        vertical-align: middle;\n",
              "    }\n",
              "\n",
              "    .dataframe tbody tr th {\n",
              "        vertical-align: top;\n",
              "    }\n",
              "\n",
              "    .dataframe thead th {\n",
              "        text-align: right;\n",
              "    }\n",
              "</style>\n",
              "<table border=\"1\" class=\"dataframe\">\n",
              "  <thead>\n",
              "    <tr style=\"text-align: right;\">\n",
              "      <th></th>\n",
              "      <th>id</th>\n",
              "      <th>subject</th>\n",
              "      <th>email</th>\n",
              "      <th>spam</th>\n",
              "    </tr>\n",
              "  </thead>\n",
              "  <tbody>\n",
              "    <tr>\n",
              "      <th>0</th>\n",
              "      <td>0</td>\n",
              "      <td>Subject: A&amp;L Daily to be auctioned in bankrupt...</td>\n",
              "      <td>url: http://boingboing.net/#85534171\\n date: n...</td>\n",
              "      <td>0</td>\n",
              "    </tr>\n",
              "    <tr>\n",
              "      <th>1</th>\n",
              "      <td>1</td>\n",
              "      <td>Subject: Wired: \"Stronger ties between ISPs an...</td>\n",
              "      <td>url: http://scriptingnews.userland.com/backiss...</td>\n",
              "      <td>0</td>\n",
              "    </tr>\n",
              "    <tr>\n",
              "      <th>2</th>\n",
              "      <td>2</td>\n",
              "      <td>Subject: It's just too small                  ...</td>\n",
              "      <td>&lt;html&gt;\\n &lt;head&gt;\\n &lt;/head&gt;\\n &lt;body&gt;\\n &lt;font siz...</td>\n",
              "      <td>1</td>\n",
              "    </tr>\n",
              "    <tr>\n",
              "      <th>3</th>\n",
              "      <td>3</td>\n",
              "      <td>Subject: liberal defnitions\\n</td>\n",
              "      <td>depends on how much over spending vs. how much...</td>\n",
              "      <td>0</td>\n",
              "    </tr>\n",
              "    <tr>\n",
              "      <th>4</th>\n",
              "      <td>4</td>\n",
              "      <td>Subject: RE: [ILUG] Newbie seeks advice - Suse...</td>\n",
              "      <td>hehe sorry but if you hit caps lock twice the ...</td>\n",
              "      <td>0</td>\n",
              "    </tr>\n",
              "  </tbody>\n",
              "</table>\n",
              "</div>\n",
              "      <button class=\"colab-df-convert\" onclick=\"convertToInteractive('df-15330bb9-905b-4f04-9f06-4986dd28c97f')\"\n",
              "              title=\"Convert this dataframe to an interactive table.\"\n",
              "              style=\"display:none;\">\n",
              "        \n",
              "  <svg xmlns=\"http://www.w3.org/2000/svg\" height=\"24px\"viewBox=\"0 0 24 24\"\n",
              "       width=\"24px\">\n",
              "    <path d=\"M0 0h24v24H0V0z\" fill=\"none\"/>\n",
              "    <path d=\"M18.56 5.44l.94 2.06.94-2.06 2.06-.94-2.06-.94-.94-2.06-.94 2.06-2.06.94zm-11 1L8.5 8.5l.94-2.06 2.06-.94-2.06-.94L8.5 2.5l-.94 2.06-2.06.94zm10 10l.94 2.06.94-2.06 2.06-.94-2.06-.94-.94-2.06-.94 2.06-2.06.94z\"/><path d=\"M17.41 7.96l-1.37-1.37c-.4-.4-.92-.59-1.43-.59-.52 0-1.04.2-1.43.59L10.3 9.45l-7.72 7.72c-.78.78-.78 2.05 0 2.83L4 21.41c.39.39.9.59 1.41.59.51 0 1.02-.2 1.41-.59l7.78-7.78 2.81-2.81c.8-.78.8-2.07 0-2.86zM5.41 20L4 18.59l7.72-7.72 1.47 1.35L5.41 20z\"/>\n",
              "  </svg>\n",
              "      </button>\n",
              "      \n",
              "  <style>\n",
              "    .colab-df-container {\n",
              "      display:flex;\n",
              "      flex-wrap:wrap;\n",
              "      gap: 12px;\n",
              "    }\n",
              "\n",
              "    .colab-df-convert {\n",
              "      background-color: #E8F0FE;\n",
              "      border: none;\n",
              "      border-radius: 50%;\n",
              "      cursor: pointer;\n",
              "      display: none;\n",
              "      fill: #1967D2;\n",
              "      height: 32px;\n",
              "      padding: 0 0 0 0;\n",
              "      width: 32px;\n",
              "    }\n",
              "\n",
              "    .colab-df-convert:hover {\n",
              "      background-color: #E2EBFA;\n",
              "      box-shadow: 0px 1px 2px rgba(60, 64, 67, 0.3), 0px 1px 3px 1px rgba(60, 64, 67, 0.15);\n",
              "      fill: #174EA6;\n",
              "    }\n",
              "\n",
              "    [theme=dark] .colab-df-convert {\n",
              "      background-color: #3B4455;\n",
              "      fill: #D2E3FC;\n",
              "    }\n",
              "\n",
              "    [theme=dark] .colab-df-convert:hover {\n",
              "      background-color: #434B5C;\n",
              "      box-shadow: 0px 1px 3px 1px rgba(0, 0, 0, 0.15);\n",
              "      filter: drop-shadow(0px 1px 2px rgba(0, 0, 0, 0.3));\n",
              "      fill: #FFFFFF;\n",
              "    }\n",
              "  </style>\n",
              "\n",
              "      <script>\n",
              "        const buttonEl =\n",
              "          document.querySelector('#df-15330bb9-905b-4f04-9f06-4986dd28c97f button.colab-df-convert');\n",
              "        buttonEl.style.display =\n",
              "          google.colab.kernel.accessAllowed ? 'block' : 'none';\n",
              "\n",
              "        async function convertToInteractive(key) {\n",
              "          const element = document.querySelector('#df-15330bb9-905b-4f04-9f06-4986dd28c97f');\n",
              "          const dataTable =\n",
              "            await google.colab.kernel.invokeFunction('convertToInteractive',\n",
              "                                                     [key], {});\n",
              "          if (!dataTable) return;\n",
              "\n",
              "          const docLinkHtml = 'Like what you see? Visit the ' +\n",
              "            '<a target=\"_blank\" href=https://colab.research.google.com/notebooks/data_table.ipynb>data table notebook</a>'\n",
              "            + ' to learn more about interactive tables.';\n",
              "          element.innerHTML = '';\n",
              "          dataTable['output_type'] = 'display_data';\n",
              "          await google.colab.output.renderOutput(dataTable, element);\n",
              "          const docLink = document.createElement('div');\n",
              "          docLink.innerHTML = docLinkHtml;\n",
              "          element.appendChild(docLink);\n",
              "        }\n",
              "      </script>\n",
              "    </div>\n",
              "  </div>\n",
              "  "
            ]
          },
          "metadata": {},
          "execution_count": 4
        }
      ],
      "source": [
        "original_training_data = pd.read_csv(f'{workspace_path}/train.csv')\n",
        "test = pd.read_csv(f'{workspace_path}/test.csv')\n",
        "\n",
        "# Convert the emails to lower case as a first step to processing the text\n",
        "original_training_data['email'] = original_training_data['email'].str.lower()\n",
        "test['email'] = test['email'].str.lower()\n",
        "\n",
        "original_training_data.head()"
      ]
    },
    {
      "cell_type": "markdown",
      "metadata": {
        "id": "LYeMW2mz-c9v"
      },
      "source": [
        "### Question 1a\n",
        "First, let's check if our data contains any missing values. \n",
        "\n",
        "- Step1: Fill in the cell below to print the number of NaN values in each column. **Hint**: [pandas.isnull](https://pandas.pydata.org/docs/reference/api/pandas.isnull.html)\n",
        "- Step2: If there are NaN values, replace them with appropriate filler values (i.e., NaN values in the `subject` or `email` columns should be replaced with empty strings). \n",
        "- Step3: Print the number of NaN values in each column after this modification to verify that there are no NaN values left.\n",
        "\n",
        "<!--\n",
        "BEGIN QUESTION\n",
        "name: q1a\n",
        "points: 1\n",
        "-->"
      ]
    },
    {
      "cell_type": "code",
      "execution_count": 5,
      "metadata": {
        "colab": {
          "base_uri": "https://localhost:8080/"
        },
        "id": "vREZl_jS-c9v",
        "outputId": "5fa6e564-da6a-4646-a4ad-f2126b1f4aa9"
      },
      "outputs": [
        {
          "output_type": "stream",
          "name": "stdout",
          "text": [
            "Before imputation:\n",
            "id         0\n",
            "subject    6\n",
            "email      0\n",
            "spam       0\n",
            "dtype: int64\n",
            "------------\n",
            "After imputation:\n",
            "id         0\n",
            "subject    0\n",
            "email      0\n",
            "spam       0\n",
            "dtype: int64\n"
          ]
        }
      ],
      "source": [
        "# BEGIN YOUR CODE\n",
        "# -----------------------\n",
        "print('Before imputation:')\n",
        "print(original_training_data.isnull().sum())\n",
        "original_training_data=original_training_data.fillna(\"\")\n",
        "print('------------')\n",
        "print('After imputation:')\n",
        "print(original_training_data.isnull().sum())\n",
        "# -----------------------\n",
        "# END YOUR CODE"
      ]
    },
    {
      "cell_type": "code",
      "execution_count": 6,
      "metadata": {
        "colab": {
          "base_uri": "https://localhost:8080/"
        },
        "id": "vghjI4WO-c9v",
        "outputId": "8ed2c860-3eaf-4c96-dc6a-a71c99da903f"
      },
      "outputs": [
        {
          "output_type": "stream",
          "name": "stdout",
          "text": [
            "\u001b[40m\u001b[93m\u001b[1mQ1a: Passed all unit tests!\u001b[0m\n"
          ]
        }
      ],
      "source": [
        "assert original_training_data.isnull().sum().sum() == 0\n",
        "print_passed('Q1a: Passed all unit tests!')"
      ]
    },
    {
      "cell_type": "markdown",
      "metadata": {
        "id": "hDyNrsW0-c9v"
      },
      "source": [
        "### Question 1b\n",
        "\n",
        "In the cell below, print the text of the first ham (i.e. 1st row) and the first spam email in the original training set.\n",
        "\n",
        "<!--\n",
        "BEGIN QUESTION\n",
        "name: q1b\n",
        "points: 1\n",
        "-->"
      ]
    },
    {
      "cell_type": "code",
      "execution_count": 7,
      "metadata": {
        "colab": {
          "base_uri": "https://localhost:8080/"
        },
        "id": "gRB6X5hP-c9w",
        "outputId": "749ce5bd-b2de-4ed9-b876-78b3379230a8"
      },
      "outputs": [
        {
          "output_type": "stream",
          "name": "stdout",
          "text": [
            "The text of the first Ham:\n",
            "------------\n",
            "url: http://boingboing.net/#85534171\n",
            " date: not supplied\n",
            " \n",
            " arts and letters daily, a wonderful and dense blog, has folded up its tent due \n",
            " to the bankruptcy of its parent company. a&l daily will be auctioned off by the \n",
            " receivers. link[1] discuss[2] (_thanks, misha!_)\n",
            " \n",
            " [1] http://www.aldaily.com/\n",
            " [2] http://www.quicktopic.com/boing/h/zlfterjnd6jf\n",
            " \n",
            " \n",
            "\n",
            "The text of the first Spam:\n",
            "------------\n",
            "<html>\n",
            " <head>\n",
            " </head>\n",
            " <body>\n",
            " <font size=3d\"4\"><b> a man endowed with a 7-8\" hammer is simply<br>\n",
            "  better equipped than a man with a 5-6\"hammer. <br>\n",
            " <br>would you rather have<br>more than enough to get the job done or fall =\n",
            " short. it's totally up<br>to you. our methods are guaranteed to increase y=\n",
            " our size by 1-3\"<br> <a href=3d\"http://209.163.187.47/cgi-bin/index.php?10=\n",
            " 004\">come in here and see how</a>\n",
            " </body>\n",
            " </html>\n",
            " \n",
            " \n",
            " \n",
            "\n"
          ]
        }
      ],
      "source": [
        "# BEGIN YOUR CODE\n",
        "# -----------------------\n",
        "first_ham = original_training_data[original_training_data[\"spam\"]==0].iloc[0][\"email\"]\n",
        "first_spam = original_training_data[original_training_data[\"spam\"]==1].iloc[0][\"email\"]\n",
        "# -----------------------\n",
        "# END YOUR CODE\n",
        "\n",
        "print('The text of the first Ham:')\n",
        "print('------------')\n",
        "print(first_ham)\n",
        "\n",
        "print('The text of the first Spam:')\n",
        "print('------------')\n",
        "print(first_spam)"
      ]
    },
    {
      "cell_type": "code",
      "execution_count": 8,
      "metadata": {
        "colab": {
          "base_uri": "https://localhost:8080/"
        },
        "id": "AEbvv1L7-c9w",
        "outputId": "653ec24b-e763-480f-aa14-8bd66bf6aafe"
      },
      "outputs": [
        {
          "output_type": "stream",
          "name": "stdout",
          "text": [
            "\u001b[40m\u001b[93m\u001b[1mQ1b: Passed all unit tests!\u001b[0m\n"
          ]
        }
      ],
      "source": [
        "assert len(first_ham) == 359 and len(first_spam) == 444\n",
        "print_passed('Q1b: Passed all unit tests!')"
      ]
    },
    {
      "cell_type": "markdown",
      "metadata": {
        "id": "ouvBVCH8-c9w"
      },
      "source": [
        "### Question 1c\n",
        "\n",
        "Discuss one thing you notice that is different between the two emails that might relate to the identification of spam.\n",
        "\n",
        "<!--\n",
        "BEGIN QUESTION\n",
        "name: q1c\n",
        "manual: True\n",
        "points: 2\n",
        "-->\n",
        "<!-- EXPORT TO PDF -->"
      ]
    },
    {
      "cell_type": "markdown",
      "metadata": {
        "id": "_PkkYtvH-c9w"
      },
      "source": [
        "Answer: `URL address is given in the text as hyperlinked in the email text in the case of ham, but URL address is given in the HTML Tag in the case of spam email.`"
      ]
    },
    {
      "cell_type": "markdown",
      "metadata": {
        "id": "EEJ511_8-c9w"
      },
      "source": [
        "## Training Validation Split\n",
        "The training data is all the data we have available for both training models and **validating** the models that we train. We therefore need to split the training data into separate training and validation datsets. You will need this **validation data** to assess the performance of your classifier once you are finished training. \n",
        "\n",
        "Note that we set the seed (random_state) to 42. This will produce a pseudo-random sequence of random numbers that is the same for every student. **Do not modify this in the following questions, as our tests depend on this random seed.**"
      ]
    },
    {
      "cell_type": "code",
      "execution_count": 9,
      "metadata": {
        "id": "Lh57_56V-c9w"
      },
      "outputs": [],
      "source": [
        "from sklearn.model_selection import train_test_split\n",
        "\n",
        "train, val = train_test_split(\n",
        "    original_training_data, test_size=0.1, random_state=42)"
      ]
    },
    {
      "cell_type": "code",
      "execution_count": 10,
      "metadata": {
        "colab": {
          "base_uri": "https://localhost:8080/"
        },
        "id": "kbFU8MUl-c9x",
        "outputId": "188ce13d-7964-4aa3-9325-8df8facc2304"
      },
      "outputs": [
        {
          "output_type": "stream",
          "name": "stdout",
          "text": [
            "(7513, 4) (835, 4)\n"
          ]
        }
      ],
      "source": [
        "print(train.shape, val.shape)   # 더해서 8342 맞음"
      ]
    },
    {
      "cell_type": "markdown",
      "metadata": {
        "id": "TMf51RV8-c9x"
      },
      "source": [
        "# Basic Feature Engineering\n",
        "\n",
        "We would like to take the text of an email and predict whether the email is **ham** or **spam**. This is a *classification* problem, and here we use logistic regression to train a classifier. \n",
        "\n",
        "Recall that to train an logistic regression model we need:\n",
        " - a numeric feature matrix $X$\n",
        " - a vector of corresponding binary labels $y$.\n",
        "\n",
        "Unfortunately, our data are text, not numbers. To address this, we can create numeric features derived from the email text and use those features for logistic regression:\n",
        " - Each row of $X$ is an email.\n",
        " - Each column of $X$ contains one feature for all the emails. \n",
        " \n",
        "We'll guide you through creating a simple feature, and you'll create more interesting ones when you are trying to increase your accuracy."
      ]
    },
    {
      "cell_type": "markdown",
      "metadata": {
        "id": "a5kzAWDe-c9x"
      },
      "source": [
        "### Question 2\n",
        "\n",
        "Create a function called `words_in_texts` that takes in a list of `words` and a pandas Series of email `texts`. It should output a 2-dimensional NumPy array containing one row for each email text. The row should contain either a 0 or a 1 for each word in the list: 0 if the word doesn't appear in the text and 1 if the word does. For example:\n",
        "\n",
        "```\n",
        ">>> words_in_texts(['hello', 'bye', 'world'], \n",
        "                   pd.Series(['hello', 'hello worldhello']))\n",
        "\n",
        "array([[1, 0, 0],\n",
        "       [1, 0, 1]])\n",
        "```\n",
        "\n",
        "**Hint**: [pandas.Series.str.contains](https://pandas.pydata.org/docs/reference/api/pandas.Series.str.contains.html)\n",
        "\n",
        "*The provided tests make sure that your function works correctly, so that you can use it for future questions.*\n",
        "\n",
        "<!--\n",
        "BEGIN QUESTION\n",
        "name: q2\n",
        "points: 3\n",
        "-->"
      ]
    },
    {
      "cell_type": "code",
      "execution_count": 11,
      "metadata": {
        "id": "9OANL6hA-c9x"
      },
      "outputs": [],
      "source": [
        "from tables.tests.common import TestFileMixin\n",
        "def words_in_texts(words, texts):\n",
        "    '''\n",
        "    Args:\n",
        "        words (list-like): words to find\n",
        "        texts (Series): strings to search in\n",
        "    \n",
        "    Returns:\n",
        "        NumPy array of 0s and 1s with shape (n, p) where n is the\n",
        "        number of texts and p is the number of words.\n",
        "    '''\n",
        "    # BEGIN YOUR CODE\n",
        "    # -----------------------\n",
        "    indicator_array = []\n",
        "    for text in texts:\n",
        "      row = [int(word in text) for word in words]\n",
        "      indicator_array.append(row)\n",
        "    #indicator_array = np.array(indicator_array)\n",
        "    # -----------------------\n",
        "    # END YOUR CODE\n",
        "    return indicator_array"
      ]
    },
    {
      "cell_type": "code",
      "execution_count": 12,
      "metadata": {
        "colab": {
          "base_uri": "https://localhost:8080/"
        },
        "id": "ghfT7JNi-c9x",
        "outputId": "780e5276-b0f3-4f72-f4b1-1cdaf5d8401e"
      },
      "outputs": [
        {
          "output_type": "stream",
          "name": "stdout",
          "text": [
            "\u001b[40m\u001b[93m\u001b[1mQ2: Passed all unit tests!\u001b[0m\n"
          ]
        }
      ],
      "source": [
        "assert np.allclose(\n",
        "    words_in_texts(\n",
        "        ['hello', 'bye', 'world'], \n",
        "        pd.Series(['hello', 'hello worldhello'])), \n",
        "    np.array([[1, 0, 0], [1, 0, 1]]))\n",
        "\n",
        "assert np.allclose(\n",
        "    words_in_texts(\n",
        "        ['a', 'b', 'c', 'd', 'e', 'f', 'g'], \n",
        "        pd.Series(['a b c d ef g', 'a', 'b', 'c', 'd e f g', 'h', 'a h'])), \n",
        "    np.array(\n",
        "        [[1,1,1,1,1,1,1], \n",
        "         [1,0,0,0,0,0,0],\n",
        "         [0,1,0,0,0,0,0],\n",
        "         [0,0,1,0,0,0,0],\n",
        "         [0,0,0,1,1,1,1],\n",
        "         [0,0,0,0,0,0,0],\n",
        "         [1,0,0,0,0,0,0]]))\n",
        "\n",
        "print_passed('Q2: Passed all unit tests!')"
      ]
    },
    {
      "cell_type": "markdown",
      "metadata": {
        "id": "rmMhnJmR-c9x"
      },
      "source": [
        "# Basic EDA\n",
        "\n",
        "We need to identify some features that allow us to distinguish spam emails from ham emails. One idea is to compare the distribution of a single feature in spam emails to the distribution of the same feature in ham emails. \n",
        "\n",
        "If the feature is itself a binary indicator (such as whether a certain word occurs in the text), this amounts to comparing the proportion of spam emails with the word to the proportion of ham emails with the word."
      ]
    },
    {
      "cell_type": "code",
      "execution_count": 13,
      "metadata": {
        "colab": {
          "base_uri": "https://localhost:8080/",
          "height": 567
        },
        "id": "lOxun1Re-c9x",
        "outputId": "c5ac6032-4c1f-4851-9c49-052c1b5a3e78"
      },
      "outputs": [
        {
          "output_type": "display_data",
          "data": {
            "text/plain": [
              "<IPython.core.display.Markdown object>"
            ],
            "text/markdown": "> Our Original DataFrame has some words column and a type column. You can think of each row is a sentence, and the value of 1 or 0 indicates the number of occurances of the word in this sentence."
          },
          "metadata": {}
        },
        {
          "output_type": "display_data",
          "data": {
            "text/plain": [
              "   word_1  word_2  type\n",
              "0       1       0  spam\n",
              "1       0       1   ham\n",
              "2       1       0   ham\n",
              "3       0       1   ham"
            ],
            "text/html": [
              "\n",
              "  <div id=\"df-31ef2584-4bb2-4bff-aa7e-e102d99e5406\">\n",
              "    <div class=\"colab-df-container\">\n",
              "      <div>\n",
              "<style scoped>\n",
              "    .dataframe tbody tr th:only-of-type {\n",
              "        vertical-align: middle;\n",
              "    }\n",
              "\n",
              "    .dataframe tbody tr th {\n",
              "        vertical-align: top;\n",
              "    }\n",
              "\n",
              "    .dataframe thead th {\n",
              "        text-align: right;\n",
              "    }\n",
              "</style>\n",
              "<table border=\"1\" class=\"dataframe\">\n",
              "  <thead>\n",
              "    <tr style=\"text-align: right;\">\n",
              "      <th></th>\n",
              "      <th>word_1</th>\n",
              "      <th>word_2</th>\n",
              "      <th>type</th>\n",
              "    </tr>\n",
              "  </thead>\n",
              "  <tbody>\n",
              "    <tr>\n",
              "      <th>0</th>\n",
              "      <td>1</td>\n",
              "      <td>0</td>\n",
              "      <td>spam</td>\n",
              "    </tr>\n",
              "    <tr>\n",
              "      <th>1</th>\n",
              "      <td>0</td>\n",
              "      <td>1</td>\n",
              "      <td>ham</td>\n",
              "    </tr>\n",
              "    <tr>\n",
              "      <th>2</th>\n",
              "      <td>1</td>\n",
              "      <td>0</td>\n",
              "      <td>ham</td>\n",
              "    </tr>\n",
              "    <tr>\n",
              "      <th>3</th>\n",
              "      <td>0</td>\n",
              "      <td>1</td>\n",
              "      <td>ham</td>\n",
              "    </tr>\n",
              "  </tbody>\n",
              "</table>\n",
              "</div>\n",
              "      <button class=\"colab-df-convert\" onclick=\"convertToInteractive('df-31ef2584-4bb2-4bff-aa7e-e102d99e5406')\"\n",
              "              title=\"Convert this dataframe to an interactive table.\"\n",
              "              style=\"display:none;\">\n",
              "        \n",
              "  <svg xmlns=\"http://www.w3.org/2000/svg\" height=\"24px\"viewBox=\"0 0 24 24\"\n",
              "       width=\"24px\">\n",
              "    <path d=\"M0 0h24v24H0V0z\" fill=\"none\"/>\n",
              "    <path d=\"M18.56 5.44l.94 2.06.94-2.06 2.06-.94-2.06-.94-.94-2.06-.94 2.06-2.06.94zm-11 1L8.5 8.5l.94-2.06 2.06-.94-2.06-.94L8.5 2.5l-.94 2.06-2.06.94zm10 10l.94 2.06.94-2.06 2.06-.94-2.06-.94-.94-2.06-.94 2.06-2.06.94z\"/><path d=\"M17.41 7.96l-1.37-1.37c-.4-.4-.92-.59-1.43-.59-.52 0-1.04.2-1.43.59L10.3 9.45l-7.72 7.72c-.78.78-.78 2.05 0 2.83L4 21.41c.39.39.9.59 1.41.59.51 0 1.02-.2 1.41-.59l7.78-7.78 2.81-2.81c.8-.78.8-2.07 0-2.86zM5.41 20L4 18.59l7.72-7.72 1.47 1.35L5.41 20z\"/>\n",
              "  </svg>\n",
              "      </button>\n",
              "      \n",
              "  <style>\n",
              "    .colab-df-container {\n",
              "      display:flex;\n",
              "      flex-wrap:wrap;\n",
              "      gap: 12px;\n",
              "    }\n",
              "\n",
              "    .colab-df-convert {\n",
              "      background-color: #E8F0FE;\n",
              "      border: none;\n",
              "      border-radius: 50%;\n",
              "      cursor: pointer;\n",
              "      display: none;\n",
              "      fill: #1967D2;\n",
              "      height: 32px;\n",
              "      padding: 0 0 0 0;\n",
              "      width: 32px;\n",
              "    }\n",
              "\n",
              "    .colab-df-convert:hover {\n",
              "      background-color: #E2EBFA;\n",
              "      box-shadow: 0px 1px 2px rgba(60, 64, 67, 0.3), 0px 1px 3px 1px rgba(60, 64, 67, 0.15);\n",
              "      fill: #174EA6;\n",
              "    }\n",
              "\n",
              "    [theme=dark] .colab-df-convert {\n",
              "      background-color: #3B4455;\n",
              "      fill: #D2E3FC;\n",
              "    }\n",
              "\n",
              "    [theme=dark] .colab-df-convert:hover {\n",
              "      background-color: #434B5C;\n",
              "      box-shadow: 0px 1px 3px 1px rgba(0, 0, 0, 0.15);\n",
              "      filter: drop-shadow(0px 1px 2px rgba(0, 0, 0, 0.3));\n",
              "      fill: #FFFFFF;\n",
              "    }\n",
              "  </style>\n",
              "\n",
              "      <script>\n",
              "        const buttonEl =\n",
              "          document.querySelector('#df-31ef2584-4bb2-4bff-aa7e-e102d99e5406 button.colab-df-convert');\n",
              "        buttonEl.style.display =\n",
              "          google.colab.kernel.accessAllowed ? 'block' : 'none';\n",
              "\n",
              "        async function convertToInteractive(key) {\n",
              "          const element = document.querySelector('#df-31ef2584-4bb2-4bff-aa7e-e102d99e5406');\n",
              "          const dataTable =\n",
              "            await google.colab.kernel.invokeFunction('convertToInteractive',\n",
              "                                                     [key], {});\n",
              "          if (!dataTable) return;\n",
              "\n",
              "          const docLinkHtml = 'Like what you see? Visit the ' +\n",
              "            '<a target=\"_blank\" href=https://colab.research.google.com/notebooks/data_table.ipynb>data table notebook</a>'\n",
              "            + ' to learn more about interactive tables.';\n",
              "          element.innerHTML = '';\n",
              "          dataTable['output_type'] = 'display_data';\n",
              "          await google.colab.output.renderOutput(dataTable, element);\n",
              "          const docLink = document.createElement('div');\n",
              "          docLink.innerHTML = docLinkHtml;\n",
              "          element.appendChild(docLink);\n",
              "        }\n",
              "      </script>\n",
              "    </div>\n",
              "  </div>\n",
              "  "
            ]
          },
          "metadata": {}
        },
        {
          "output_type": "display_data",
          "data": {
            "text/plain": [
              "<IPython.core.display.Markdown object>"
            ],
            "text/markdown": "> `melt` will turn columns into variale, notice how `word_1` and `word_2` become `variable`, their values are stoed in the value column"
          },
          "metadata": {}
        },
        {
          "output_type": "display_data",
          "data": {
            "text/plain": [
              "   type variable  value\n",
              "0  spam   word_1      1\n",
              "1   ham   word_1      0\n",
              "2   ham   word_1      1\n",
              "3   ham   word_1      0\n",
              "4  spam   word_2      0\n",
              "5   ham   word_2      1\n",
              "6   ham   word_2      0\n",
              "7   ham   word_2      1"
            ],
            "text/html": [
              "\n",
              "  <div id=\"df-c88905db-cd58-4813-aae7-2a49d75ec490\">\n",
              "    <div class=\"colab-df-container\">\n",
              "      <div>\n",
              "<style scoped>\n",
              "    .dataframe tbody tr th:only-of-type {\n",
              "        vertical-align: middle;\n",
              "    }\n",
              "\n",
              "    .dataframe tbody tr th {\n",
              "        vertical-align: top;\n",
              "    }\n",
              "\n",
              "    .dataframe thead th {\n",
              "        text-align: right;\n",
              "    }\n",
              "</style>\n",
              "<table border=\"1\" class=\"dataframe\">\n",
              "  <thead>\n",
              "    <tr style=\"text-align: right;\">\n",
              "      <th></th>\n",
              "      <th>type</th>\n",
              "      <th>variable</th>\n",
              "      <th>value</th>\n",
              "    </tr>\n",
              "  </thead>\n",
              "  <tbody>\n",
              "    <tr>\n",
              "      <th>0</th>\n",
              "      <td>spam</td>\n",
              "      <td>word_1</td>\n",
              "      <td>1</td>\n",
              "    </tr>\n",
              "    <tr>\n",
              "      <th>1</th>\n",
              "      <td>ham</td>\n",
              "      <td>word_1</td>\n",
              "      <td>0</td>\n",
              "    </tr>\n",
              "    <tr>\n",
              "      <th>2</th>\n",
              "      <td>ham</td>\n",
              "      <td>word_1</td>\n",
              "      <td>1</td>\n",
              "    </tr>\n",
              "    <tr>\n",
              "      <th>3</th>\n",
              "      <td>ham</td>\n",
              "      <td>word_1</td>\n",
              "      <td>0</td>\n",
              "    </tr>\n",
              "    <tr>\n",
              "      <th>4</th>\n",
              "      <td>spam</td>\n",
              "      <td>word_2</td>\n",
              "      <td>0</td>\n",
              "    </tr>\n",
              "    <tr>\n",
              "      <th>5</th>\n",
              "      <td>ham</td>\n",
              "      <td>word_2</td>\n",
              "      <td>1</td>\n",
              "    </tr>\n",
              "    <tr>\n",
              "      <th>6</th>\n",
              "      <td>ham</td>\n",
              "      <td>word_2</td>\n",
              "      <td>0</td>\n",
              "    </tr>\n",
              "    <tr>\n",
              "      <th>7</th>\n",
              "      <td>ham</td>\n",
              "      <td>word_2</td>\n",
              "      <td>1</td>\n",
              "    </tr>\n",
              "  </tbody>\n",
              "</table>\n",
              "</div>\n",
              "      <button class=\"colab-df-convert\" onclick=\"convertToInteractive('df-c88905db-cd58-4813-aae7-2a49d75ec490')\"\n",
              "              title=\"Convert this dataframe to an interactive table.\"\n",
              "              style=\"display:none;\">\n",
              "        \n",
              "  <svg xmlns=\"http://www.w3.org/2000/svg\" height=\"24px\"viewBox=\"0 0 24 24\"\n",
              "       width=\"24px\">\n",
              "    <path d=\"M0 0h24v24H0V0z\" fill=\"none\"/>\n",
              "    <path d=\"M18.56 5.44l.94 2.06.94-2.06 2.06-.94-2.06-.94-.94-2.06-.94 2.06-2.06.94zm-11 1L8.5 8.5l.94-2.06 2.06-.94-2.06-.94L8.5 2.5l-.94 2.06-2.06.94zm10 10l.94 2.06.94-2.06 2.06-.94-2.06-.94-.94-2.06-.94 2.06-2.06.94z\"/><path d=\"M17.41 7.96l-1.37-1.37c-.4-.4-.92-.59-1.43-.59-.52 0-1.04.2-1.43.59L10.3 9.45l-7.72 7.72c-.78.78-.78 2.05 0 2.83L4 21.41c.39.39.9.59 1.41.59.51 0 1.02-.2 1.41-.59l7.78-7.78 2.81-2.81c.8-.78.8-2.07 0-2.86zM5.41 20L4 18.59l7.72-7.72 1.47 1.35L5.41 20z\"/>\n",
              "  </svg>\n",
              "      </button>\n",
              "      \n",
              "  <style>\n",
              "    .colab-df-container {\n",
              "      display:flex;\n",
              "      flex-wrap:wrap;\n",
              "      gap: 12px;\n",
              "    }\n",
              "\n",
              "    .colab-df-convert {\n",
              "      background-color: #E8F0FE;\n",
              "      border: none;\n",
              "      border-radius: 50%;\n",
              "      cursor: pointer;\n",
              "      display: none;\n",
              "      fill: #1967D2;\n",
              "      height: 32px;\n",
              "      padding: 0 0 0 0;\n",
              "      width: 32px;\n",
              "    }\n",
              "\n",
              "    .colab-df-convert:hover {\n",
              "      background-color: #E2EBFA;\n",
              "      box-shadow: 0px 1px 2px rgba(60, 64, 67, 0.3), 0px 1px 3px 1px rgba(60, 64, 67, 0.15);\n",
              "      fill: #174EA6;\n",
              "    }\n",
              "\n",
              "    [theme=dark] .colab-df-convert {\n",
              "      background-color: #3B4455;\n",
              "      fill: #D2E3FC;\n",
              "    }\n",
              "\n",
              "    [theme=dark] .colab-df-convert:hover {\n",
              "      background-color: #434B5C;\n",
              "      box-shadow: 0px 1px 3px 1px rgba(0, 0, 0, 0.15);\n",
              "      filter: drop-shadow(0px 1px 2px rgba(0, 0, 0, 0.3));\n",
              "      fill: #FFFFFF;\n",
              "    }\n",
              "  </style>\n",
              "\n",
              "      <script>\n",
              "        const buttonEl =\n",
              "          document.querySelector('#df-c88905db-cd58-4813-aae7-2a49d75ec490 button.colab-df-convert');\n",
              "        buttonEl.style.display =\n",
              "          google.colab.kernel.accessAllowed ? 'block' : 'none';\n",
              "\n",
              "        async function convertToInteractive(key) {\n",
              "          const element = document.querySelector('#df-c88905db-cd58-4813-aae7-2a49d75ec490');\n",
              "          const dataTable =\n",
              "            await google.colab.kernel.invokeFunction('convertToInteractive',\n",
              "                                                     [key], {});\n",
              "          if (!dataTable) return;\n",
              "\n",
              "          const docLinkHtml = 'Like what you see? Visit the ' +\n",
              "            '<a target=\"_blank\" href=https://colab.research.google.com/notebooks/data_table.ipynb>data table notebook</a>'\n",
              "            + ' to learn more about interactive tables.';\n",
              "          element.innerHTML = '';\n",
              "          dataTable['output_type'] = 'display_data';\n",
              "          await google.colab.output.renderOutput(dataTable, element);\n",
              "          const docLink = document.createElement('div');\n",
              "          docLink.innerHTML = docLinkHtml;\n",
              "          element.appendChild(docLink);\n",
              "        }\n",
              "      </script>\n",
              "    </div>\n",
              "  </div>\n",
              "  "
            ]
          },
          "metadata": {}
        }
      ],
      "source": [
        "from IPython.display import display, Markdown\n",
        "df = pd.DataFrame({\n",
        "    'word_1': [1, 0, 1, 0],\n",
        "    'word_2': [0, 1, 0, 1],\n",
        "    'type': ['spam', 'ham', 'ham', 'ham']\n",
        "})\n",
        "display(Markdown(\"> Our Original DataFrame has some words column and a type column. You can think of each row is a sentence, and the value of 1 or 0 indicates the number of occurances of the word in this sentence.\"))\n",
        "display(df);\n",
        "display(Markdown(\"> `melt` will turn columns into variale, notice how `word_1` and `word_2` become `variable`, their values are stoed in the value column\"))\n",
        "display(df.melt(\"type\"))"
      ]
    },
    {
      "cell_type": "markdown",
      "metadata": {
        "id": "u1ng79qh-c9y"
      },
      "source": [
        "We can create a bar chart like the one above comparing the proportion of spam and ham emails containing certain words. Choose a set of words that are different from the ones above, but also have different proportions for the two classes. Make sure that we only consider emails from `train`.\n",
        "\n",
        "<!--\n",
        "BEGIN QUESTION\n",
        "name: q3a\n",
        "manual: True\n",
        "format: image\n",
        "points: 2\n",
        "-->\n",
        "<!-- EXPORT TO PDF format:image -->"
      ]
    },
    {
      "cell_type": "code",
      "execution_count": 14,
      "metadata": {
        "colab": {
          "base_uri": "https://localhost:8080/",
          "height": 783
        },
        "id": "kCRGFEby-c9y",
        "outputId": "cbe0ca80-f3f7-49f5-df7b-f187ee89e43a"
      },
      "outputs": [
        {
          "output_type": "display_data",
          "data": {
            "text/plain": [
              "<Figure size 800x800 with 1 Axes>"
            ],
            "image/png": "[encoded data removed]"
          },
          "metadata": {}
        }
      ],
      "source": [
        "# We must do this in order to preserve the ordering of emails to labels for words_in_texts\n",
        "train=train.reset_index(drop=True) \n",
        "\n",
        "some_words = ['body', 'html', 'please', 'money', 'business', 'offer']\n",
        "Phi_train = words_in_texts(some_words, train['email'])\n",
        "\n",
        "df = pd.DataFrame(data = Phi_train, columns = some_words)\n",
        "df['label'] = train['spam']\n",
        "\n",
        "plt.figure(figsize=(8,8))\n",
        "sns.barplot(x = \"variable\", \n",
        "            y = \"value\", \n",
        "            hue = \"label\", \n",
        "            data = (df\n",
        "                    .replace({'label': \n",
        "                                {0 : 'Ham', \n",
        "                                 1 : 'Spam'}})\n",
        "                    .melt('label')\n",
        "                    .groupby(['label', 'variable'])\n",
        "                    .mean()\n",
        "                    .reset_index()))\n",
        "\n",
        "plt.ylim([0, 1])\n",
        "plt.xlabel('Words')\n",
        "plt.ylabel('Proportion of Emails')\n",
        "plt.legend(title = \"\")\n",
        "plt.title(\"Frequency of Words in Spam/Ham Emails\")\n",
        "plt.tight_layout()\n",
        "plt.show()"
      ]
    },
    {
      "cell_type": "markdown",
      "metadata": {
        "id": "B6iIHbGL-c9y"
      },
      "source": [
        "### Question 3\n",
        "\n",
        "When the feature is binary, it makes sense to compare its proportions across classes (as in the previous question). Otherwise, if the feature can take on numeric values, we can compare the distributions of these values for different classes. \n",
        "\n",
        "Create a *class conditional density plot* like the one above (using `sns.distplot`), comparing the distribution of the length of spam emails to the distribution of the length of ham emails in the training set. Set the x-axis limit from 0 to 50000.\n",
        "\n",
        "<!--\n",
        "BEGIN QUESTION\n",
        "name: q3b\n",
        "manual: True\n",
        "format: image\n",
        "points: 2\n",
        "-->\n",
        "<!-- EXPORT TO PDF format:image -->"
      ]
    },
    {
      "cell_type": "code",
      "execution_count": 15,
      "metadata": {
        "colab": {
          "base_uri": "https://localhost:8080/",
          "height": 878
        },
        "id": "WOhTQJkM-c9y",
        "outputId": "a2265408-23ab-4a06-b400-0375c3b21be4"
      },
      "outputs": [
        {
          "output_type": "stream",
          "name": "stderr",
          "text": [
            "<ipython-input-15-4df7be0ea2b0>:7: UserWarning: \n",
            "\n",
            "`distplot` is a deprecated function and will be removed in seaborn v0.14.0.\n",
            "\n",
            "Please adapt your code to use either `displot` (a figure-level function with\n",
            "similar flexibility) or `kdeplot` (an axes-level function for kernel density plots).\n",
            "\n",
            "For a guide to updating your code to use the new functions, please see\n",
            "https://gist.github.com/mwaskom/de44147ed2974457ad6372750bbe5751\n",
            "\n",
            "  sns.distplot(ham_length, hist = False, kde = True, label=\"Ham\")\n",
            "<ipython-input-15-4df7be0ea2b0>:8: UserWarning: \n",
            "\n",
            "`distplot` is a deprecated function and will be removed in seaborn v0.14.0.\n",
            "\n",
            "Please adapt your code to use either `displot` (a figure-level function with\n",
            "similar flexibility) or `kdeplot` (an axes-level function for kernel density plots).\n",
            "\n",
            "For a guide to updating your code to use the new functions, please see\n",
            "https://gist.github.com/mwaskom/de44147ed2974457ad6372750bbe5751\n",
            "\n",
            "  sns.distplot(spam_length, hist = False, kde = True, label=\"Spam\")\n"
          ]
        },
        {
          "output_type": "display_data",
          "data": {
            "text/plain": [
              "<Figure size 640x480 with 1 Axes>"
            ],
            "image/png": "[encoded data removed]"
          },
          "metadata": {}
        },
        {
          "output_type": "display_data",
          "data": {
            "text/plain": [
              "<Figure size 600x800 with 0 Axes>"
            ]
          },
          "metadata": {}
        }
      ],
      "source": [
        "# BEGIN SOLUTION\n",
        "ham_length = train[train[\"spam\"]==0][\"email\"].str.len()\n",
        "spam_length = train[train[\"spam\"]==1][\"email\"].str.len()\n",
        "\n",
        "x_axis_limit = (0,50000)\n",
        "\n",
        "sns.distplot(ham_length, hist = False, kde = True, label=\"Ham\")\n",
        "sns.distplot(spam_length, hist = False, kde = True, label=\"Spam\")\n",
        "\n",
        "plt.xlim(x_axis_limit)\n",
        "\n",
        "plt.xlabel(\"Length of email body\")\n",
        "plt.ylabel(\"Distribution\")\n",
        "\n",
        "df = pd.DataFrame(data = Phi_train, columns = some_words)\n",
        "df['label'] = train['spam']\n",
        "\n",
        "plt.figure(figsize=(6,8))\n",
        "plt.tight_layout()\n",
        "plt.show()\n",
        "# END SOLUTION"
      ]
    },
    {
      "cell_type": "markdown",
      "metadata": {
        "id": "kGxhfFNy-c9y"
      },
      "source": [
        "## Basic Classification\n",
        "\n",
        "Notice that the output of `words_in_texts(words, train['email'])` is a numeric matrix containing features for each email. This means we can use it directly to train a classifier!"
      ]
    },
    {
      "cell_type": "markdown",
      "metadata": {
        "id": "AWxulxZ2-c9y"
      },
      "source": [
        "### Question 4\n",
        "\n",
        "We've given you 5 words that might be useful as features to distinguish spam/ham emails. Use these words as well as the `train` DataFrame to create two NumPy arrays: `X_train` and `Y_train`.\n",
        "\n",
        "- `X_train` should be a matrix of 0s and 1s created by using your `words_in_texts` function on all the emails in the training set.\n",
        "\n",
        "- `Y_train` should be a vector of the correct labels for each email in the training set.\n",
        "\n",
        "*The provided tests check that the dimensions of your feature matrix (X) are correct, and that your features and labels are binary (i.e. consists of 0 and 1, no other values). It does not check that your function is correct; that was verified in a previous question.*\n",
        "\n",
        "<!--\n",
        "BEGIN QUESTION\n",
        "name: q4\n",
        "points: 2\n",
        "-->"
      ]
    },
    {
      "cell_type": "code",
      "execution_count": 16,
      "metadata": {
        "colab": {
          "base_uri": "https://localhost:8080/"
        },
        "id": "Q2iQ0YrI-c9y",
        "outputId": "5e7795a2-9ae0-4e87-8770-d9cbbdbe475f"
      },
      "outputs": [
        {
          "output_type": "execute_result",
          "data": {
            "text/plain": [
              "(array([[0, 0, 0, 0, 0],\n",
              "        [0, 0, 0, 0, 0],\n",
              "        [0, 0, 0, 0, 0],\n",
              "        [0, 0, 0, 0, 0],\n",
              "        [0, 0, 0, 1, 0]]),\n",
              " array([0, 0, 0, 0, 0]))"
            ]
          },
          "metadata": {},
          "execution_count": 16
        }
      ],
      "source": [
        "some_words = ['drug', 'bank', 'prescription', 'memo', 'private']\n",
        "\n",
        "# BEGIN YOUR CODE\n",
        "# -----------------------\n",
        "Phi_train = words_in_texts(some_words, train['email'])\n",
        "\n",
        "X_train = np.array(pd.DataFrame(data = Phi_train, columns = some_words))\n",
        "Y_train = np.array(train[\"spam\"])\n",
        "# -----------------------\n",
        "# END YOUR CODE\n",
        "\n",
        "X_train[:5], Y_train[:5]"
      ]
    },
    {
      "cell_type": "code",
      "execution_count": 17,
      "metadata": {
        "colab": {
          "base_uri": "https://localhost:8080/"
        },
        "id": "A9sVGEvx-c9y",
        "outputId": "cd04a40f-19c9-45dc-fbe3-67faee0c9be7"
      },
      "outputs": [
        {
          "output_type": "stream",
          "name": "stdout",
          "text": [
            "\u001b[40m\u001b[93m\u001b[1mQ4: Passed all unit tests!\u001b[0m\n"
          ]
        }
      ],
      "source": [
        "assert X_train.shape == (7513, 5)\n",
        "assert len(np.unique(X_train)) == 2\n",
        "assert len(np.unique(Y_train)) == 2\n",
        "\n",
        "print_passed('Q4: Passed all unit tests!')"
      ]
    },
    {
      "cell_type": "markdown",
      "metadata": {
        "id": "s5zxFW5J-c9y"
      },
      "source": [
        "### Question 5\n",
        "\n",
        "Now we have matrices we can give to scikit-learn! \n",
        "\n",
        "- Using the [`LogisticRegression`](http://scikit-learn.org/stable/modules/generated/sklearn.linear_model.LogisticRegression.html) classifier, train a logistic regression model using `X_train` and `Y_train`.\n",
        "- Then, output the accuracy of the model (on the training data) in the cell below. You should get an accuracy around 75\\%.\n",
        "\n",
        "<!--\n",
        "BEGIN QUESTION\n",
        "name: q5\n",
        "points: 2\n",
        "-->"
      ]
    },
    {
      "cell_type": "code",
      "execution_count": 18,
      "metadata": {
        "colab": {
          "base_uri": "https://localhost:8080/"
        },
        "id": "VL7_VYxL-c9y",
        "outputId": "cdf0c92c-1cfd-4402-cfb0-4fa7e097d9fb"
      },
      "outputs": [
        {
          "output_type": "execute_result",
          "data": {
            "text/plain": [
              "('Training Accuracy: ', 0.7576201251164648)"
            ]
          },
          "metadata": {},
          "execution_count": 18
        }
      ],
      "source": [
        "from sklearn.linear_model import LogisticRegression\n",
        "\n",
        "# BEGIN YOUR CODE\n",
        "# -----------------------\n",
        "model = LogisticRegression()\n",
        "model.fit(X_train, Y_train)\n",
        "Y_train_prediction = model.predict(X_train)\n",
        "training_accuracy = sum(Y_train == Y_train_prediction)/len(train)\n",
        "# -----------------------\n",
        "# END YOUR CODE\n",
        "\n",
        "(\"Training Accuracy: \", training_accuracy)"
      ]
    },
    {
      "cell_type": "code",
      "execution_count": 19,
      "metadata": {
        "colab": {
          "base_uri": "https://localhost:8080/"
        },
        "id": "T4LqNCSb-c9z",
        "outputId": "d87c75fe-f2cf-47ff-fdb2-29f8d1cfa937"
      },
      "outputs": [
        {
          "output_type": "stream",
          "name": "stdout",
          "text": [
            "\u001b[40m\u001b[93m\u001b[1mQ5: Passed all unit tests!\u001b[0m\n"
          ]
        }
      ],
      "source": [
        "assert training_accuracy > 0.72\n",
        "print_passed('Q5: Passed all unit tests!')"
      ]
    },
    {
      "cell_type": "markdown",
      "metadata": {
        "id": "3jv3rfgv-c9z"
      },
      "source": [
        "## Evaluating Classifiers"
      ]
    },
    {
      "cell_type": "markdown",
      "metadata": {
        "id": "mEVZsTjS-c9z"
      },
      "source": [
        "That doesn't seem too shabby! But the classifier you made above isn't as good as this might lead us to believe. First, we are evaluating accuracy on the training set, which may lead to a misleading accuracy measure, especially if we used the training set to identify discriminative features. In future parts of this analysis, it will be safer to hold out some of our data for model validation and comparison.\n",
        "\n",
        "Presumably, our classifier will be used for **filtering**, i.e. preventing messages labeled `spam` from reaching someone's inbox. There are two kinds of errors we can make:\n",
        "- False positive (FP): a ham email gets flagged as spam and filtered out of the inbox.\n",
        "- False negative (FN): a spam email gets mislabeled as ham and ends up in the inbox.\n",
        "\n",
        "These definitions depend both on the true labels and the predicted labels. False positives and false negatives may be of differing importance, leading us to consider more ways of evaluating a classifier, in addition to overall accuracy:\n",
        "\n",
        "**Precision** measures the proportion $\\frac{\\text{TP}}{\\text{TP} + \\text{FP}}$ of emails flagged as spam that are actually spam.\n",
        "\n",
        "**Recall** measures the proportion $\\frac{\\text{TP}}{\\text{TP} + \\text{FN}}$ of spam emails that were correctly flagged as spam. \n",
        "\n",
        "**False-alarm rate** measures the proportion $\\frac{\\text{FP}}{\\text{FP} + \\text{TN}}$ of ham emails that were incorrectly flagged as spam. \n",
        "\n",
        "The following image might help:\n",
        "\n",
        "<img src=\"https://upload.wikimedia.org/wikipedia/commons/thumb/2/26/Precisionrecall.svg/700px-Precisionrecall.svg.png\" width=\"500px\">\n",
        "\n",
        "Note that a true positive (TP) is a spam email that is classified as spam, and a true negative (TN) is a ham email that is classified as ham."
      ]
    },
    {
      "cell_type": "markdown",
      "metadata": {
        "id": "TikK5QTS-c9z"
      },
      "source": [
        "### Question 6a\n",
        "\n",
        "Suppose we have a classifier `zero_predictor` that always predicts 0 (never predicts positive). How many false positives and false negatives would this classifier have if it were evaluated on the training set and its results were compared to `Y_train`? Fill in the variables below (answers can be hard-coded):\n",
        "\n",
        "<!--\n",
        "BEGIN QUESTION\n",
        "name: q6a\n",
        "points: 1\n",
        "-->"
      ]
    },
    {
      "cell_type": "code",
      "execution_count": 20,
      "metadata": {
        "id": "UH8R7hKj-c9z"
      },
      "outputs": [],
      "source": [
        "# BEGIN YOUR CODE\n",
        "# -----------------------\n",
        "zero_predictor = np.zeros(len(train))\n",
        "zero_predictor_fp = np.sum(zero_predictor == 1)\n",
        "zero_predictor_fn = len(Y_train[Y_train==1])\n",
        "# -----------------------\n",
        "# END YOUR CODE"
      ]
    },
    {
      "cell_type": "code",
      "execution_count": 21,
      "metadata": {
        "colab": {
          "base_uri": "https://localhost:8080/"
        },
        "id": "_n0eCG3p-c9z",
        "outputId": "8a70142c-3a6f-458f-8ec6-c1237962679f"
      },
      "outputs": [
        {
          "output_type": "stream",
          "name": "stdout",
          "text": [
            "\u001b[40m\u001b[93m\u001b[1mQ6a: Passed all unit tests!\u001b[0m\n"
          ]
        }
      ],
      "source": [
        "assert zero_predictor_fp + zero_predictor_fn == 1918\n",
        "print_passed('Q6a: Passed all unit tests!')"
      ]
    },
    {
      "cell_type": "markdown",
      "metadata": {
        "id": "EwZ7pTRx-c9z"
      },
      "source": [
        "### Question 6b\n",
        "\n",
        "What are the accuracy and recall of `zero_predictor` (classifies every email as ham) on the training set? Do NOT use any `sklearn` functions.\n",
        "\n",
        "<!--\n",
        "BEGIN QUESTION\n",
        "name: q6b\n",
        "points: 1\n",
        "-->"
      ]
    },
    {
      "cell_type": "code",
      "execution_count": 22,
      "metadata": {
        "id": "8QNmzlhq-c9z"
      },
      "outputs": [],
      "source": [
        "# BEGIN YOUR CODE\n",
        "# -----------------------\n",
        "zero_predictor_acc = sum(Y_train == zero_predictor)/len(zero_predictor)\n",
        "zero_predictor_recall = 0\n",
        "# -----------------------\n",
        "# END YOUR CODE"
      ]
    },
    {
      "cell_type": "code",
      "execution_count": 23,
      "metadata": {
        "colab": {
          "base_uri": "https://localhost:8080/"
        },
        "id": "ruHICzWJ-c9z",
        "outputId": "6c9279d7-2d08-4385-84a0-d068deafb78a"
      },
      "outputs": [
        {
          "output_type": "stream",
          "name": "stdout",
          "text": [
            "\u001b[40m\u001b[93m\u001b[1mQ6b: Passed all unit tests!\u001b[0m\n"
          ]
        }
      ],
      "source": [
        "assert np.isclose(zero_predictor_acc + zero_predictor_recall, 0.7447091707706642)\n",
        "print_passed('Q6b: Passed all unit tests!')"
      ]
    },
    {
      "cell_type": "markdown",
      "metadata": {
        "id": "9iX-Z_qX-c9z"
      },
      "source": [
        "### Question 6c\n",
        "\n",
        "Compute the precision, recall, and false-alarm rate of the `LogisticRegression` classifier created and trained in Question 5. **Note: Do NOT use any `sklearn` built-in functions.**\n",
        "\n",
        "<!--\n",
        "BEGIN QUESTION\n",
        "name: q6d\n",
        "points: 2\n",
        "-->"
      ]
    },
    {
      "cell_type": "code",
      "execution_count": 24,
      "metadata": {
        "id": "WmM7bi3g-c9z",
        "colab": {
          "base_uri": "https://localhost:8080/"
        },
        "outputId": "f3fb3810-fefe-4809-a528-531d95ceb7fc"
      },
      "outputs": [
        {
          "output_type": "stream",
          "name": "stdout",
          "text": [
            "219 122 1699 5473\n"
          ]
        }
      ],
      "source": [
        "# BEGIN YOUR CODE\n",
        "# -----------------------\n",
        "tp = sum((Y_train ==1)& (Y_train_prediction ==1))\n",
        "fp = sum((Y_train ==0)& (Y_train_prediction ==1))\n",
        "fn = sum((Y_train ==1)& (Y_train_prediction==0))\n",
        "tn = len(Y_train)-(tp+fp+fn)\n",
        "logistic_predictor_precision = tp/(tp+fp)\n",
        "logistic_predictor_recall = tp/(tp+fn)\n",
        "logistic_predictor_far = fp/(fp+tn)\n",
        "\n",
        "print(tp,fp, fn, tn)\n",
        "# -----------------------\n",
        "# END YOUR CODE"
      ]
    },
    {
      "cell_type": "code",
      "execution_count": 25,
      "metadata": {
        "colab": {
          "base_uri": "https://localhost:8080/"
        },
        "id": "l1ksLYsZ-c9z",
        "outputId": "ee115116-3d1a-4543-dcf2-5d6fc6029af0"
      },
      "outputs": [
        {
          "output_type": "stream",
          "name": "stdout",
          "text": [
            "\u001b[40m\u001b[93m\u001b[1mQ6c: Passed all unit tests!\u001b[0m\n"
          ]
        }
      ],
      "source": [
        "assert np.isclose(logistic_predictor_precision, 0.6422287390029325)\n",
        "assert np.isclose(logistic_predictor_recall, 0.11418143899895725)\n",
        "assert np.isclose(logistic_predictor_far, 0.021805183199285077)\n",
        "print_passed('Q6c: Passed all unit tests!')"
      ]
    },
    {
      "cell_type": "markdown",
      "metadata": {
        "id": "SgF9D88T-c9z"
      },
      "source": [
        "### Question 6d\n",
        "\n",
        "1. Our logistic regression classifier got 75.6% prediction accuracy (number of correct predictions / total). How does this compare with predicting 0 for every email?\n",
        "1. Given the word features we gave you above, name one reason this classifier is performing poorly. Hint: Think about how prevalent these words are in the email set.\n",
        "1. Which of these two classifiers would you prefer for a spam filter and why? Describe your reasoning and relate it to at least one of the evaluation metrics you have computed so far.\n",
        "\n",
        "<!--\n",
        "BEGIN QUESTION\n",
        "name: q6f\n",
        "manual: True\n",
        "points: 3\n",
        "-->\n",
        "<!-- EXPORT TO PDF -->"
      ]
    },
    {
      "cell_type": "markdown",
      "metadata": {
        "id": "xDhUZqqt-c9z"
      },
      "source": [
        "Answer: \n",
        "1. `Our logistic regression classifier got similar prediction accuracy(75.6%) compared with zero_predictor(74.5%). But the recall score(=11.4%) is higher than the zero_predictor(=0).`\n",
        "\n",
        "2. `One reason the classifier may be performing poorly is if the word features provided are prevalent or hardly common in the email set. If the selected words hardly appear in both spam and ham emails, they may not provide distinct patterns or characteristics that can effectively differentiate between the two classes. None of the words given above appear in both spam and ham mail frequently. For example, the word 'prescription' is contained in '9' ham emails, and just in '46' spam emails, that is, very small proportion considering the total number of given train_data(=7513). As a result, the classifier might struggle to accurately classify emails based on these word features alone.`\n",
        "\n",
        "3. `I think logistic regression classifier is better classifier than zero_predictor. It's because even their accuracy scores are similar, precision & recall score of logistic regression classifier are higher than zero_predictor(precision: cannot be measured, recall: 0). There is no meaning for zero_predictor as spam classifier because no matter of what the text of email is, the zero_predictor classifies the email as ham, so can never catch the 'spam' email. However, in my case, I prefer zero_predictor. I think, the case of classifying the ham as spam(FP) is critical because there should be no case that I miss the meaning email(ham) as classified as spam. The zero_predictor can never catch the spam email, but at the same time, the possibility of classifying the real ham email as spam email is zero. `"
      ]
    },
    {
      "cell_type": "markdown",
      "metadata": {
        "id": "HVm_NmgG-c9z"
      },
      "source": [
        "# Part II - Moving Forward\n",
        "\n",
        "With this in mind, it is now your task to make the spam filter more accurate. In order to get full credit on the accuracy part of this assignment, you must get at least **88%** accuracy on the `validation` set.\n",
        "\n",
        "Here are some ideas for improving your model:\n",
        "\n",
        "1. Finding better features based on the email text. Some example features are:\n",
        "    1. Number of characters in the subject / body\n",
        "    1. Number of words in the subject / body\n",
        "    1. Use of punctuation (e.g., how many '!' were there?)\n",
        "    1. Number / percentage of capital letters \n",
        "    1. Whether the email is a reply to an earlier email or a forwarded email\n",
        "1. Finding better words to use as features. Which words are the best at distinguishing emails? This requires digging into the email text itself. \n",
        "1. Better data processing. For example, many emails contain HTML as well as text. You can consider extracting out the text from the HTML to help you find better words. Or, you can match HTML tags themselves, or even some combination of the two.\n",
        "1. Model selection. You can adjust parameters of your model (e.g. the regularization parameter) to achieve higher accuracy. Recall that you should use cross-validation to do feature and model selection properly! Otherwise, you will likely overfit to your training data.\n",
        "\n",
        "You may use whatever method you prefer in order to create features, but **you are not allowed to import any external feature extraction libraries**. In addition, **you are only allowed to train logistic regression models**. No random forests, k-nearest-neighbors, neural nets, etc."
      ]
    },
    {
      "cell_type": "markdown",
      "source": [
        "## Here is the code for creating the model(preprocessing & feature_engineering)\n"
      ],
      "metadata": {
        "id": "dF0FFKLlEaBB"
      }
    },
    {
      "cell_type": "code",
      "source": [
        "#train = pd.DataFrame(train).dropna()\n",
        "train = train.reset_index(drop = True)\n",
        "train"
      ],
      "metadata": {
        "colab": {
          "base_uri": "https://localhost:8080/",
          "height": 424
        },
        "id": "CDTYm7pcEjYw",
        "outputId": "c8487b23-f8f4-407a-f56f-f946aabae642"
      },
      "execution_count": 26,
      "outputs": [
        {
          "output_type": "execute_result",
          "data": {
            "text/plain": [
              "        id                                            subject  \\\n",
              "0     7657             Subject: Patch to enable/disable log\\n   \n",
              "1     6911        Subject: When an engineer flaps his wings\\n   \n",
              "2     6074  Subject: Re: [Razor-users] razor plugins for m...   \n",
              "3     4376  Subject: NYTimes.com Article: Stop Those Press...   \n",
              "4     5766  Subject: What's facing FBI's new CIO? (Tech Up...   \n",
              "...    ...                                                ...   \n",
              "7508  5734  Subject: [Spambayes] understanding high false ...   \n",
              "7509  5191        Subject: Reach millions on the internet!!\\n   \n",
              "7510  5390                        Subject: Facts about sex.\\n   \n",
              "7511   860  Subject: Re: Zoot apt/openssh & new DVD playin...   \n",
              "7512  7270  Subject: Re: Internet radio - example from a c...   \n",
              "\n",
              "                                                  email  spam  \n",
              "0     while i was playing with the past issues, it a...     0  \n",
              "1     url: http://diveintomark.org/archives/2002/10/...     0  \n",
              "2     no, please post a link!\\n \\n fox\\n ----- origi...     0  \n",
              "3     this article from nytimes.com \\n has been sent...     0  \n",
              "4     <html>\\n <head>\\n <title>tech update today</ti...     0  \n",
              "...                                                 ...   ...  \n",
              "7508  >>>>> \"tp\" == tim peters <tim.one@comcast.net>...     0  \n",
              "7509  \\n dear consumers, increase your business sale...     1  \n",
              "7510  \\n forwarded-by: flower\\n \\n did you know that...     0  \n",
              "7511  on tue, oct 08, 2002 at 04:36:13pm +0200, matt...     0  \n",
              "7512  chris haun wrote:\\n > \\n > we would need someo...     0  \n",
              "\n",
              "[7513 rows x 4 columns]"
            ],
            "text/html": [
              "\n",
              "  <div id=\"df-edda8567-6544-4aa0-9d13-58fd1faf6c33\">\n",
              "    <div class=\"colab-df-container\">\n",
              "      <div>\n",
              "<style scoped>\n",
              "    .dataframe tbody tr th:only-of-type {\n",
              "        vertical-align: middle;\n",
              "    }\n",
              "\n",
              "    .dataframe tbody tr th {\n",
              "        vertical-align: top;\n",
              "    }\n",
              "\n",
              "    .dataframe thead th {\n",
              "        text-align: right;\n",
              "    }\n",
              "</style>\n",
              "<table border=\"1\" class=\"dataframe\">\n",
              "  <thead>\n",
              "    <tr style=\"text-align: right;\">\n",
              "      <th></th>\n",
              "      <th>id</th>\n",
              "      <th>subject</th>\n",
              "      <th>email</th>\n",
              "      <th>spam</th>\n",
              "    </tr>\n",
              "  </thead>\n",
              "  <tbody>\n",
              "    <tr>\n",
              "      <th>0</th>\n",
              "      <td>7657</td>\n",
              "      <td>Subject: Patch to enable/disable log\\n</td>\n",
              "      <td>while i was playing with the past issues, it a...</td>\n",
              "      <td>0</td>\n",
              "    </tr>\n",
              "    <tr>\n",
              "      <th>1</th>\n",
              "      <td>6911</td>\n",
              "      <td>Subject: When an engineer flaps his wings\\n</td>\n",
              "      <td>url: http://diveintomark.org/archives/2002/10/...</td>\n",
              "      <td>0</td>\n",
              "    </tr>\n",
              "    <tr>\n",
              "      <th>2</th>\n",
              "      <td>6074</td>\n",
              "      <td>Subject: Re: [Razor-users] razor plugins for m...</td>\n",
              "      <td>no, please post a link!\\n \\n fox\\n ----- origi...</td>\n",
              "      <td>0</td>\n",
              "    </tr>\n",
              "    <tr>\n",
              "      <th>3</th>\n",
              "      <td>4376</td>\n",
              "      <td>Subject: NYTimes.com Article: Stop Those Press...</td>\n",
              "      <td>this article from nytimes.com \\n has been sent...</td>\n",
              "      <td>0</td>\n",
              "    </tr>\n",
              "    <tr>\n",
              "      <th>4</th>\n",
              "      <td>5766</td>\n",
              "      <td>Subject: What's facing FBI's new CIO? (Tech Up...</td>\n",
              "      <td>&lt;html&gt;\\n &lt;head&gt;\\n &lt;title&gt;tech update today&lt;/ti...</td>\n",
              "      <td>0</td>\n",
              "    </tr>\n",
              "    <tr>\n",
              "      <th>...</th>\n",
              "      <td>...</td>\n",
              "      <td>...</td>\n",
              "      <td>...</td>\n",
              "      <td>...</td>\n",
              "    </tr>\n",
              "    <tr>\n",
              "      <th>7508</th>\n",
              "      <td>5734</td>\n",
              "      <td>Subject: [Spambayes] understanding high false ...</td>\n",
              "      <td>&gt;&gt;&gt;&gt;&gt; \"tp\" == tim peters &lt;tim.one@comcast.net&gt;...</td>\n",
              "      <td>0</td>\n",
              "    </tr>\n",
              "    <tr>\n",
              "      <th>7509</th>\n",
              "      <td>5191</td>\n",
              "      <td>Subject: Reach millions on the internet!!\\n</td>\n",
              "      <td>\\n dear consumers, increase your business sale...</td>\n",
              "      <td>1</td>\n",
              "    </tr>\n",
              "    <tr>\n",
              "      <th>7510</th>\n",
              "      <td>5390</td>\n",
              "      <td>Subject: Facts about sex.\\n</td>\n",
              "      <td>\\n forwarded-by: flower\\n \\n did you know that...</td>\n",
              "      <td>0</td>\n",
              "    </tr>\n",
              "    <tr>\n",
              "      <th>7511</th>\n",
              "      <td>860</td>\n",
              "      <td>Subject: Re: Zoot apt/openssh &amp; new DVD playin...</td>\n",
              "      <td>on tue, oct 08, 2002 at 04:36:13pm +0200, matt...</td>\n",
              "      <td>0</td>\n",
              "    </tr>\n",
              "    <tr>\n",
              "      <th>7512</th>\n",
              "      <td>7270</td>\n",
              "      <td>Subject: Re: Internet radio - example from a c...</td>\n",
              "      <td>chris haun wrote:\\n &gt; \\n &gt; we would need someo...</td>\n",
              "      <td>0</td>\n",
              "    </tr>\n",
              "  </tbody>\n",
              "</table>\n",
              "<p>7513 rows × 4 columns</p>\n",
              "</div>\n",
              "      <button class=\"colab-df-convert\" onclick=\"convertToInteractive('df-edda8567-6544-4aa0-9d13-58fd1faf6c33')\"\n",
              "              title=\"Convert this dataframe to an interactive table.\"\n",
              "              style=\"display:none;\">\n",
              "        \n",
              "  <svg xmlns=\"http://www.w3.org/2000/svg\" height=\"24px\"viewBox=\"0 0 24 24\"\n",
              "       width=\"24px\">\n",
              "    <path d=\"M0 0h24v24H0V0z\" fill=\"none\"/>\n",
              "    <path d=\"M18.56 5.44l.94 2.06.94-2.06 2.06-.94-2.06-.94-.94-2.06-.94 2.06-2.06.94zm-11 1L8.5 8.5l.94-2.06 2.06-.94-2.06-.94L8.5 2.5l-.94 2.06-2.06.94zm10 10l.94 2.06.94-2.06 2.06-.94-2.06-.94-.94-2.06-.94 2.06-2.06.94z\"/><path d=\"M17.41 7.96l-1.37-1.37c-.4-.4-.92-.59-1.43-.59-.52 0-1.04.2-1.43.59L10.3 9.45l-7.72 7.72c-.78.78-.78 2.05 0 2.83L4 21.41c.39.39.9.59 1.41.59.51 0 1.02-.2 1.41-.59l7.78-7.78 2.81-2.81c.8-.78.8-2.07 0-2.86zM5.41 20L4 18.59l7.72-7.72 1.47 1.35L5.41 20z\"/>\n",
              "  </svg>\n",
              "      </button>\n",
              "      \n",
              "  <style>\n",
              "    .colab-df-container {\n",
              "      display:flex;\n",
              "      flex-wrap:wrap;\n",
              "      gap: 12px;\n",
              "    }\n",
              "\n",
              "    .colab-df-convert {\n",
              "      background-color: #E8F0FE;\n",
              "      border: none;\n",
              "      border-radius: 50%;\n",
              "      cursor: pointer;\n",
              "      display: none;\n",
              "      fill: #1967D2;\n",
              "      height: 32px;\n",
              "      padding: 0 0 0 0;\n",
              "      width: 32px;\n",
              "    }\n",
              "\n",
              "    .colab-df-convert:hover {\n",
              "      background-color: #E2EBFA;\n",
              "      box-shadow: 0px 1px 2px rgba(60, 64, 67, 0.3), 0px 1px 3px 1px rgba(60, 64, 67, 0.15);\n",
              "      fill: #174EA6;\n",
              "    }\n",
              "\n",
              "    [theme=dark] .colab-df-convert {\n",
              "      background-color: #3B4455;\n",
              "      fill: #D2E3FC;\n",
              "    }\n",
              "\n",
              "    [theme=dark] .colab-df-convert:hover {\n",
              "      background-color: #434B5C;\n",
              "      box-shadow: 0px 1px 3px 1px rgba(0, 0, 0, 0.15);\n",
              "      filter: drop-shadow(0px 1px 2px rgba(0, 0, 0, 0.3));\n",
              "      fill: #FFFFFF;\n",
              "    }\n",
              "  </style>\n",
              "\n",
              "      <script>\n",
              "        const buttonEl =\n",
              "          document.querySelector('#df-edda8567-6544-4aa0-9d13-58fd1faf6c33 button.colab-df-convert');\n",
              "        buttonEl.style.display =\n",
              "          google.colab.kernel.accessAllowed ? 'block' : 'none';\n",
              "\n",
              "        async function convertToInteractive(key) {\n",
              "          const element = document.querySelector('#df-edda8567-6544-4aa0-9d13-58fd1faf6c33');\n",
              "          const dataTable =\n",
              "            await google.colab.kernel.invokeFunction('convertToInteractive',\n",
              "                                                     [key], {});\n",
              "          if (!dataTable) return;\n",
              "\n",
              "          const docLinkHtml = 'Like what you see? Visit the ' +\n",
              "            '<a target=\"_blank\" href=https://colab.research.google.com/notebooks/data_table.ipynb>data table notebook</a>'\n",
              "            + ' to learn more about interactive tables.';\n",
              "          element.innerHTML = '';\n",
              "          dataTable['output_type'] = 'display_data';\n",
              "          await google.colab.output.renderOutput(dataTable, element);\n",
              "          const docLink = document.createElement('div');\n",
              "          docLink.innerHTML = docLinkHtml;\n",
              "          element.appendChild(docLink);\n",
              "        }\n",
              "      </script>\n",
              "    </div>\n",
              "  </div>\n",
              "  "
            ]
          },
          "metadata": {},
          "execution_count": 26
        }
      ]
    },
    {
      "cell_type": "code",
      "source": [
        "from bs4 import BeautifulSoup\n",
        "\n",
        "def remove_html_tags(text):\n",
        "    # Create a BeautifulSoup object with the mail text\n",
        "    soup = BeautifulSoup(text, 'html.parser')\n",
        "\n",
        "    # Remove HTML tags from the mail text\n",
        "    cleaned_text = soup.get_text()\n",
        "\n",
        "    return cleaned_text"
      ],
      "metadata": {
        "id": "E0Vt8FCBErwI"
      },
      "execution_count": 27,
      "outputs": []
    },
    {
      "cell_type": "code",
      "source": [
        "### Removing html tag from the given email text\n",
        "hammails = []\n",
        "for email_text in train[train[\"spam\"]==0][\"email\"]:\n",
        "  removed = remove_html_tags(email_text)\n",
        "  hammails.append(removed)\n",
        "spammails = []\n",
        "for email_text in train[train[\"spam\"]==1][\"email\"]:\n",
        "  removed = remove_html_tags(email_text)\n",
        "  spammails.append(removed)\n",
        "emails = []\n",
        "for email_text in train[\"email\"]:\n",
        "  removed = remove_html_tags(email_text)\n",
        "  emails.append(removed)"
      ],
      "metadata": {
        "colab": {
          "base_uri": "https://localhost:8080/"
        },
        "id": "Im4ZMA0KEt1q",
        "outputId": "007e5803-e743-434a-87a6-42998d74c1c0"
      },
      "execution_count": 28,
      "outputs": [
        {
          "output_type": "stream",
          "name": "stderr",
          "text": [
            "<ipython-input-27-e2f2af80e567>:5: MarkupResemblesLocatorWarning: The input looks more like a filename than markup. You may want to open this file and pass the filehandle into Beautiful Soup.\n",
            "  soup = BeautifulSoup(text, 'html.parser')\n"
          ]
        }
      ]
    },
    {
      "cell_type": "code",
      "source": [
        "### for each given text, analyze how many words for each word class in the text\n",
        "import nltk\n",
        "nltk.download('punkt')\n",
        "nltk.download('averaged_perceptron_tagger')\n",
        "from nltk.tokenize import word_tokenize\n",
        "from nltk.tag import pos_tag\n",
        "\n",
        "tokenized_emails = [word_tokenize(email.lower()) for email in emails]\n",
        "tagged_emails = [pos_tag(tokens) for tokens in tokenized_emails]\n",
        "\n",
        "word_classes = [':', 'VBD', 'JJ', 'NN', \"''\", 'CD', 'PRP', 'VBP', 'DT', 'WDT', 'VBZ', '$', 'MD', 'VB', 'TO', 'IN', 'PRP$', 'RB', 'NNS', 'CC', 'VBG', 'VBN', 'JJS', 'RBS', '#', '.', 'NNP', 'RP', ',', 'WRB', 'POS', 'EX', 'RBR', '``', 'WP', 'JJR', '(', ')', 'FW', 'NNPS', 'WP$']\n",
        "\n",
        "class_freq = []\n",
        "for tagged_email in tagged_emails:\n",
        "  freq = nltk.FreqDist(tag for word, tag in tagged_email if tag in word_classes)\n",
        "  class_freq.append(freq)\n",
        "\n",
        "df = pd.DataFrame(class_freq)\n",
        "df = df.fillna(0)"
      ],
      "metadata": {
        "colab": {
          "base_uri": "https://localhost:8080/"
        },
        "id": "g1ccx5BmEwnr",
        "outputId": "ecc21793-553d-426e-a8ae-b7bfc4415a0a"
      },
      "execution_count": 29,
      "outputs": [
        {
          "output_type": "stream",
          "name": "stderr",
          "text": [
            "[nltk_data] Downloading package punkt to /root/nltk_data...\n",
            "[nltk_data]   Unzipping tokenizers/punkt.zip.\n",
            "[nltk_data] Downloading package averaged_perceptron_tagger to\n",
            "[nltk_data]     /root/nltk_data...\n",
            "[nltk_data]   Unzipping taggers/averaged_perceptron_tagger.zip.\n"
          ]
        }
      ]
    },
    {
      "cell_type": "code",
      "source": [
        "# add the column that tells whether the email is reply to an earlier email(=1) or a forwarded email(=0)\n",
        "subject = [1 if subj.startswith(\"Subject: Re: \") else 0 for subj in train[\"subject\"]]\n",
        "df[\"subject\"] = subject\n",
        "\n",
        "# add the column that tells wheter the email text contains \"url: \" string. \n",
        "url_presence = [1 if \"url: \" in email else 0 for email in train[\"email\"]]\n",
        "df[\"url_presence\"] = url_presence\n",
        "\n",
        "df[\"label\"] = train[\"spam\"]\n",
        "df = df.astype(int)\n",
        "df"
      ],
      "metadata": {
        "colab": {
          "base_uri": "https://localhost:8080/",
          "height": 424
        },
        "id": "VJo7c0h1Ey7x",
        "outputId": "782275c7-a025-4ddb-bba4-5929837603eb"
      },
      "execution_count": 30,
      "outputs": [
        {
          "output_type": "execute_result",
          "data": {
            "text/plain": [
              "       IN   NN  VBD  VBG  DT   JJ  NNS   ,  PRP  EX  ...  RP  WP  JJS  POS  \\\n",
              "0       9   69   10    2  13   40    4   6    6   1  ...   0   0    0    0   \n",
              "1      61  174   13   23  51  103   33  28   10   0  ...   7   2    2    3   \n",
              "2      16   53    1    2  16   24   10   4    1   0  ...   0   0    0    0   \n",
              "3      93  163   57    7  81   63   47  47   28   2  ...   4   4    1    1   \n",
              "4      80  216    6   26  59   85   64  25   21   0  ...   8   8    2   12   \n",
              "...   ...  ...  ...  ...  ..  ...  ...  ..  ...  ..  ...  ..  ..  ...  ...   \n",
              "7508    1   14    0    2   6    9   11   3    0   0  ...   0   0    0    0   \n",
              "7509  106  246    7   17  63  111   72  31   31   1  ...   2   1    2    3   \n",
              "7510   24   60    1    9  34   20   19   7   14   0  ...   4   0    2    0   \n",
              "7511   19   35    7    2  14   18    5  10    6   0  ...   0   1    1    2   \n",
              "7512   11   23    2    3  10   15    8   8    7   0  ...   1   1    0    0   \n",
              "\n",
              "      RBR  JJR  NNPS  subject  url_presence  label  \n",
              "0       0    0     0        0             0      0  \n",
              "1       2    1     0        0             1      0  \n",
              "2       0    0     0        1             0      0  \n",
              "3       0    0     0        0             0      0  \n",
              "4       5    3     0        0             0      0  \n",
              "...   ...  ...   ...      ...           ...    ...  \n",
              "7508    0    1     0        0             0      0  \n",
              "7509    1    0     0        0             0      1  \n",
              "7510    2    4     0        0             0      0  \n",
              "7511    0    1     0        1             0      0  \n",
              "7512    0    1     0        1             0      0  \n",
              "\n",
              "[7513 rows x 44 columns]"
            ],
            "text/html": [
              "\n",
              "  <div id=\"df-4352abbf-6477-4659-bc33-c3114bf15752\">\n",
              "    <div class=\"colab-df-container\">\n",
              "      <div>\n",
              "<style scoped>\n",
              "    .dataframe tbody tr th:only-of-type {\n",
              "        vertical-align: middle;\n",
              "    }\n",
              "\n",
              "    .dataframe tbody tr th {\n",
              "        vertical-align: top;\n",
              "    }\n",
              "\n",
              "    .dataframe thead th {\n",
              "        text-align: right;\n",
              "    }\n",
              "</style>\n",
              "<table border=\"1\" class=\"dataframe\">\n",
              "  <thead>\n",
              "    <tr style=\"text-align: right;\">\n",
              "      <th></th>\n",
              "      <th>IN</th>\n",
              "      <th>NN</th>\n",
              "      <th>VBD</th>\n",
              "      <th>VBG</th>\n",
              "      <th>DT</th>\n",
              "      <th>JJ</th>\n",
              "      <th>NNS</th>\n",
              "      <th>,</th>\n",
              "      <th>PRP</th>\n",
              "      <th>EX</th>\n",
              "      <th>...</th>\n",
              "      <th>RP</th>\n",
              "      <th>WP</th>\n",
              "      <th>JJS</th>\n",
              "      <th>POS</th>\n",
              "      <th>RBR</th>\n",
              "      <th>JJR</th>\n",
              "      <th>NNPS</th>\n",
              "      <th>subject</th>\n",
              "      <th>url_presence</th>\n",
              "      <th>label</th>\n",
              "    </tr>\n",
              "  </thead>\n",
              "  <tbody>\n",
              "    <tr>\n",
              "      <th>0</th>\n",
              "      <td>9</td>\n",
              "      <td>69</td>\n",
              "      <td>10</td>\n",
              "      <td>2</td>\n",
              "      <td>13</td>\n",
              "      <td>40</td>\n",
              "      <td>4</td>\n",
              "      <td>6</td>\n",
              "      <td>6</td>\n",
              "      <td>1</td>\n",
              "      <td>...</td>\n",
              "      <td>0</td>\n",
              "      <td>0</td>\n",
              "      <td>0</td>\n",
              "      <td>0</td>\n",
              "      <td>0</td>\n",
              "      <td>0</td>\n",
              "      <td>0</td>\n",
              "      <td>0</td>\n",
              "      <td>0</td>\n",
              "      <td>0</td>\n",
              "    </tr>\n",
              "    <tr>\n",
              "      <th>1</th>\n",
              "      <td>61</td>\n",
              "      <td>174</td>\n",
              "      <td>13</td>\n",
              "      <td>23</td>\n",
              "      <td>51</td>\n",
              "      <td>103</td>\n",
              "      <td>33</td>\n",
              "      <td>28</td>\n",
              "      <td>10</td>\n",
              "      <td>0</td>\n",
              "      <td>...</td>\n",
              "      <td>7</td>\n",
              "      <td>2</td>\n",
              "      <td>2</td>\n",
              "      <td>3</td>\n",
              "      <td>2</td>\n",
              "      <td>1</td>\n",
              "      <td>0</td>\n",
              "      <td>0</td>\n",
              "      <td>1</td>\n",
              "      <td>0</td>\n",
              "    </tr>\n",
              "    <tr>\n",
              "      <th>2</th>\n",
              "      <td>16</td>\n",
              "      <td>53</td>\n",
              "      <td>1</td>\n",
              "      <td>2</td>\n",
              "      <td>16</td>\n",
              "      <td>24</td>\n",
              "      <td>10</td>\n",
              "      <td>4</td>\n",
              "      <td>1</td>\n",
              "      <td>0</td>\n",
              "      <td>...</td>\n",
              "      <td>0</td>\n",
              "      <td>0</td>\n",
              "      <td>0</td>\n",
              "      <td>0</td>\n",
              "      <td>0</td>\n",
              "      <td>0</td>\n",
              "      <td>0</td>\n",
              "      <td>1</td>\n",
              "      <td>0</td>\n",
              "      <td>0</td>\n",
              "    </tr>\n",
              "    <tr>\n",
              "      <th>3</th>\n",
              "      <td>93</td>\n",
              "      <td>163</td>\n",
              "      <td>57</td>\n",
              "      <td>7</td>\n",
              "      <td>81</td>\n",
              "      <td>63</td>\n",
              "      <td>47</td>\n",
              "      <td>47</td>\n",
              "      <td>28</td>\n",
              "      <td>2</td>\n",
              "      <td>...</td>\n",
              "      <td>4</td>\n",
              "      <td>4</td>\n",
              "      <td>1</td>\n",
              "      <td>1</td>\n",
              "      <td>0</td>\n",
              "      <td>0</td>\n",
              "      <td>0</td>\n",
              "      <td>0</td>\n",
              "      <td>0</td>\n",
              "      <td>0</td>\n",
              "    </tr>\n",
              "    <tr>\n",
              "      <th>4</th>\n",
              "      <td>80</td>\n",
              "      <td>216</td>\n",
              "      <td>6</td>\n",
              "      <td>26</td>\n",
              "      <td>59</td>\n",
              "      <td>85</td>\n",
              "      <td>64</td>\n",
              "      <td>25</td>\n",
              "      <td>21</td>\n",
              "      <td>0</td>\n",
              "      <td>...</td>\n",
              "      <td>8</td>\n",
              "      <td>8</td>\n",
              "      <td>2</td>\n",
              "      <td>12</td>\n",
              "      <td>5</td>\n",
              "      <td>3</td>\n",
              "      <td>0</td>\n",
              "      <td>0</td>\n",
              "      <td>0</td>\n",
              "      <td>0</td>\n",
              "    </tr>\n",
              "    <tr>\n",
              "      <th>...</th>\n",
              "      <td>...</td>\n",
              "      <td>...</td>\n",
              "      <td>...</td>\n",
              "      <td>...</td>\n",
              "      <td>...</td>\n",
              "      <td>...</td>\n",
              "      <td>...</td>\n",
              "      <td>...</td>\n",
              "      <td>...</td>\n",
              "      <td>...</td>\n",
              "      <td>...</td>\n",
              "      <td>...</td>\n",
              "      <td>...</td>\n",
              "      <td>...</td>\n",
              "      <td>...</td>\n",
              "      <td>...</td>\n",
              "      <td>...</td>\n",
              "      <td>...</td>\n",
              "      <td>...</td>\n",
              "      <td>...</td>\n",
              "      <td>...</td>\n",
              "    </tr>\n",
              "    <tr>\n",
              "      <th>7508</th>\n",
              "      <td>1</td>\n",
              "      <td>14</td>\n",
              "      <td>0</td>\n",
              "      <td>2</td>\n",
              "      <td>6</td>\n",
              "      <td>9</td>\n",
              "      <td>11</td>\n",
              "      <td>3</td>\n",
              "      <td>0</td>\n",
              "      <td>0</td>\n",
              "      <td>...</td>\n",
              "      <td>0</td>\n",
              "      <td>0</td>\n",
              "      <td>0</td>\n",
              "      <td>0</td>\n",
              "      <td>0</td>\n",
              "      <td>1</td>\n",
              "      <td>0</td>\n",
              "      <td>0</td>\n",
              "      <td>0</td>\n",
              "      <td>0</td>\n",
              "    </tr>\n",
              "    <tr>\n",
              "      <th>7509</th>\n",
              "      <td>106</td>\n",
              "      <td>246</td>\n",
              "      <td>7</td>\n",
              "      <td>17</td>\n",
              "      <td>63</td>\n",
              "      <td>111</td>\n",
              "      <td>72</td>\n",
              "      <td>31</td>\n",
              "      <td>31</td>\n",
              "      <td>1</td>\n",
              "      <td>...</td>\n",
              "      <td>2</td>\n",
              "      <td>1</td>\n",
              "      <td>2</td>\n",
              "      <td>3</td>\n",
              "      <td>1</td>\n",
              "      <td>0</td>\n",
              "      <td>0</td>\n",
              "      <td>0</td>\n",
              "      <td>0</td>\n",
              "      <td>1</td>\n",
              "    </tr>\n",
              "    <tr>\n",
              "      <th>7510</th>\n",
              "      <td>24</td>\n",
              "      <td>60</td>\n",
              "      <td>1</td>\n",
              "      <td>9</td>\n",
              "      <td>34</td>\n",
              "      <td>20</td>\n",
              "      <td>19</td>\n",
              "      <td>7</td>\n",
              "      <td>14</td>\n",
              "      <td>0</td>\n",
              "      <td>...</td>\n",
              "      <td>4</td>\n",
              "      <td>0</td>\n",
              "      <td>2</td>\n",
              "      <td>0</td>\n",
              "      <td>2</td>\n",
              "      <td>4</td>\n",
              "      <td>0</td>\n",
              "      <td>0</td>\n",
              "      <td>0</td>\n",
              "      <td>0</td>\n",
              "    </tr>\n",
              "    <tr>\n",
              "      <th>7511</th>\n",
              "      <td>19</td>\n",
              "      <td>35</td>\n",
              "      <td>7</td>\n",
              "      <td>2</td>\n",
              "      <td>14</td>\n",
              "      <td>18</td>\n",
              "      <td>5</td>\n",
              "      <td>10</td>\n",
              "      <td>6</td>\n",
              "      <td>0</td>\n",
              "      <td>...</td>\n",
              "      <td>0</td>\n",
              "      <td>1</td>\n",
              "      <td>1</td>\n",
              "      <td>2</td>\n",
              "      <td>0</td>\n",
              "      <td>1</td>\n",
              "      <td>0</td>\n",
              "      <td>1</td>\n",
              "      <td>0</td>\n",
              "      <td>0</td>\n",
              "    </tr>\n",
              "    <tr>\n",
              "      <th>7512</th>\n",
              "      <td>11</td>\n",
              "      <td>23</td>\n",
              "      <td>2</td>\n",
              "      <td>3</td>\n",
              "      <td>10</td>\n",
              "      <td>15</td>\n",
              "      <td>8</td>\n",
              "      <td>8</td>\n",
              "      <td>7</td>\n",
              "      <td>0</td>\n",
              "      <td>...</td>\n",
              "      <td>1</td>\n",
              "      <td>1</td>\n",
              "      <td>0</td>\n",
              "      <td>0</td>\n",
              "      <td>0</td>\n",
              "      <td>1</td>\n",
              "      <td>0</td>\n",
              "      <td>1</td>\n",
              "      <td>0</td>\n",
              "      <td>0</td>\n",
              "    </tr>\n",
              "  </tbody>\n",
              "</table>\n",
              "<p>7513 rows × 44 columns</p>\n",
              "</div>\n",
              "      <button class=\"colab-df-convert\" onclick=\"convertToInteractive('df-4352abbf-6477-4659-bc33-c3114bf15752')\"\n",
              "              title=\"Convert this dataframe to an interactive table.\"\n",
              "              style=\"display:none;\">\n",
              "        \n",
              "  <svg xmlns=\"http://www.w3.org/2000/svg\" height=\"24px\"viewBox=\"0 0 24 24\"\n",
              "       width=\"24px\">\n",
              "    <path d=\"M0 0h24v24H0V0z\" fill=\"none\"/>\n",
              "    <path d=\"M18.56 5.44l.94 2.06.94-2.06 2.06-.94-2.06-.94-.94-2.06-.94 2.06-2.06.94zm-11 1L8.5 8.5l.94-2.06 2.06-.94-2.06-.94L8.5 2.5l-.94 2.06-2.06.94zm10 10l.94 2.06.94-2.06 2.06-.94-2.06-.94-.94-2.06-.94 2.06-2.06.94z\"/><path d=\"M17.41 7.96l-1.37-1.37c-.4-.4-.92-.59-1.43-.59-.52 0-1.04.2-1.43.59L10.3 9.45l-7.72 7.72c-.78.78-.78 2.05 0 2.83L4 21.41c.39.39.9.59 1.41.59.51 0 1.02-.2 1.41-.59l7.78-7.78 2.81-2.81c.8-.78.8-2.07 0-2.86zM5.41 20L4 18.59l7.72-7.72 1.47 1.35L5.41 20z\"/>\n",
              "  </svg>\n",
              "      </button>\n",
              "      \n",
              "  <style>\n",
              "    .colab-df-container {\n",
              "      display:flex;\n",
              "      flex-wrap:wrap;\n",
              "      gap: 12px;\n",
              "    }\n",
              "\n",
              "    .colab-df-convert {\n",
              "      background-color: #E8F0FE;\n",
              "      border: none;\n",
              "      border-radius: 50%;\n",
              "      cursor: pointer;\n",
              "      display: none;\n",
              "      fill: #1967D2;\n",
              "      height: 32px;\n",
              "      padding: 0 0 0 0;\n",
              "      width: 32px;\n",
              "    }\n",
              "\n",
              "    .colab-df-convert:hover {\n",
              "      background-color: #E2EBFA;\n",
              "      box-shadow: 0px 1px 2px rgba(60, 64, 67, 0.3), 0px 1px 3px 1px rgba(60, 64, 67, 0.15);\n",
              "      fill: #174EA6;\n",
              "    }\n",
              "\n",
              "    [theme=dark] .colab-df-convert {\n",
              "      background-color: #3B4455;\n",
              "      fill: #D2E3FC;\n",
              "    }\n",
              "\n",
              "    [theme=dark] .colab-df-convert:hover {\n",
              "      background-color: #434B5C;\n",
              "      box-shadow: 0px 1px 3px 1px rgba(0, 0, 0, 0.15);\n",
              "      filter: drop-shadow(0px 1px 2px rgba(0, 0, 0, 0.3));\n",
              "      fill: #FFFFFF;\n",
              "    }\n",
              "  </style>\n",
              "\n",
              "      <script>\n",
              "        const buttonEl =\n",
              "          document.querySelector('#df-4352abbf-6477-4659-bc33-c3114bf15752 button.colab-df-convert');\n",
              "        buttonEl.style.display =\n",
              "          google.colab.kernel.accessAllowed ? 'block' : 'none';\n",
              "\n",
              "        async function convertToInteractive(key) {\n",
              "          const element = document.querySelector('#df-4352abbf-6477-4659-bc33-c3114bf15752');\n",
              "          const dataTable =\n",
              "            await google.colab.kernel.invokeFunction('convertToInteractive',\n",
              "                                                     [key], {});\n",
              "          if (!dataTable) return;\n",
              "\n",
              "          const docLinkHtml = 'Like what you see? Visit the ' +\n",
              "            '<a target=\"_blank\" href=https://colab.research.google.com/notebooks/data_table.ipynb>data table notebook</a>'\n",
              "            + ' to learn more about interactive tables.';\n",
              "          element.innerHTML = '';\n",
              "          dataTable['output_type'] = 'display_data';\n",
              "          await google.colab.output.renderOutput(dataTable, element);\n",
              "          const docLink = document.createElement('div');\n",
              "          docLink.innerHTML = docLinkHtml;\n",
              "          element.appendChild(docLink);\n",
              "        }\n",
              "      </script>\n",
              "    </div>\n",
              "  </div>\n",
              "  "
            ]
          },
          "metadata": {},
          "execution_count": 30
        }
      ]
    },
    {
      "cell_type": "code",
      "source": [
        "# figuring out which words \"ham\" mail contains a lot\n",
        "import re\n",
        "import nltk\n",
        "nltk.download(\"punkt\")\n",
        "nltk.download('averaged_perceptron_tagger')\n",
        "# Creating bag-of-words for feature_engineering\n",
        "words = []\n",
        "tagging = {}\n",
        "word_counts = {} \n",
        "\n",
        "for text in hammails:\n",
        "  text = text.replace(\"\\t\", \" \").replace(\"\\n\", \" \")\n",
        "  text_words = nltk.word_tokenize(text)\n",
        "  words.extend(text_words)\n",
        "\n",
        "for word in words:\n",
        "  word_counts[word] = word_counts.get(word, 0) + 1\n",
        "\n",
        "pos_tags = nltk.pos_tag(word_counts.keys())  # tokenizing the sentence\n",
        "\n",
        "for word, pos in pos_tags:\n",
        "    #word_counts[word] = word_counts.get(word, 0) + 1   # count the word\n",
        "  if pos in tagging.keys():                         # tagging is already existed\n",
        "    if word in tagging[pos]:                        # word is already existed\n",
        "      continue                          \n",
        "    else:                                           # word is not existed\n",
        "      tagging[pos].add(word)\n",
        "  else:                                             # tagging is not existed\n",
        "    tagging[pos] = {word}\n",
        "\n",
        "pos_tags_dictionary = {}\n",
        "for word, pos in pos_tags:\n",
        "  if word in pos_tags_dictionary.keys():                         # word_tag info is already existed\n",
        "    continue\n",
        "  else:\n",
        "    pos_tags_dictionary[word] = pos\n",
        "\n",
        "sort_word_counts = dict(sorted(word_counts.items(), key = lambda x: x[1], reverse = True))"
      ],
      "metadata": {
        "colab": {
          "base_uri": "https://localhost:8080/"
        },
        "id": "qV6AC5Q9E2TG",
        "outputId": "9a9db2b2-017f-4337-b094-31804601de63"
      },
      "execution_count": 31,
      "outputs": [
        {
          "output_type": "stream",
          "name": "stderr",
          "text": [
            "[nltk_data] Downloading package punkt to /root/nltk_data...\n",
            "[nltk_data]   Package punkt is already up-to-date!\n",
            "[nltk_data] Downloading package averaged_perceptron_tagger to\n",
            "[nltk_data]     /root/nltk_data...\n",
            "[nltk_data]   Package averaged_perceptron_tagger is already up-to-\n",
            "[nltk_data]       date!\n"
          ]
        }
      ]
    },
    {
      "cell_type": "code",
      "source": [
        "# figuring out which words \"spam\" mail contains a lot\n",
        "words_spam = []\n",
        "tagging_spam = {}\n",
        "word_counts_spam = {} \n",
        "\n",
        "for text in spammails:\n",
        "  text = text.replace(\"\\t\", \" \").replace(\"\\n\", \" \")\n",
        "  text_words = nltk.word_tokenize(text)\n",
        "  words_spam.extend(text_words)\n",
        "\n",
        "for word in words_spam:\n",
        "  word_counts_spam[word] = word_counts_spam.get(word, 0) + 1\n",
        "\n",
        "pos_tags = nltk.pos_tag(word_counts_spam.keys())  # tokenizing the sentence\n",
        "\n",
        "for word, pos in pos_tags:\n",
        "    #word_counts[word] = word_counts.get(word, 0) + 1   # count the word\n",
        "  if pos in tagging_spam.keys():                         # tagging is already existed\n",
        "    if word in tagging_spam[pos]:                        # word is already existed\n",
        "      continue                          \n",
        "    else:                                           # word is not existed\n",
        "      tagging_spam[pos].add(word)\n",
        "  else:                                             # tagging is not existed\n",
        "    tagging_spam[pos] = {word}\n",
        "\n",
        "pos_tags_dictionary_spam = {}\n",
        "for word, pos in pos_tags:\n",
        "  if word in pos_tags_dictionary_spam.keys():                         # word_tag info is already existed\n",
        "    continue\n",
        "  else:\n",
        "    pos_tags_dictionary_spam[word] = pos\n",
        "\n",
        "sort_word_counts_spam = dict(sorted(word_counts_spam.items(), key = lambda x: x[1], reverse = True))"
      ],
      "metadata": {
        "id": "g93HgOwAE3ra"
      },
      "execution_count": 32,
      "outputs": []
    },
    {
      "cell_type": "code",
      "source": [
        "## figuring out the words that one class contains a lot, but the other class doesn't\n",
        "## these word can be the feature of model\n",
        "distinguishing_word = []\n",
        "\n",
        "for word in sort_word_counts_spam.keys():\n",
        "  if word in sort_word_counts.keys():\n",
        "    if sort_word_counts_spam[word] >=1200 and sort_word_counts[word] <=300:\n",
        "      distinguishing_word.append(word)\n",
        "    if sort_word_counts_spam[word] <= 300 and sort_word_counts[word] >=1200:\n",
        "      distinguishing_word.append(word)\n",
        "  if word not in sort_word_counts.keys() and sort_word_counts_spam[word]>1200:\n",
        "    distinguishing_word.append(word)\n",
        "for word in sort_word_counts.keys():\n",
        "  if word not in sort_word_counts_spam.keys() and sort_word_counts[word]>1200:\n",
        "    distinguishing_word.append(word)\n",
        "distinguishing_word"
      ],
      "metadata": {
        "colab": {
          "base_uri": "https://localhost:8080/"
        },
        "id": "NoMgGFmDE8XV",
        "outputId": "d8ed7097-5cb1-42d8-a1db-c2586641dc3b"
      },
      "execution_count": 33,
      "outputs": [
        {
          "output_type": "execute_result",
          "data": {
            "text/plain": [
              "['receive',\n",
              " \"'re\",\n",
              " 'b',\n",
              " 'did',\n",
              " 'were',\n",
              " 'same',\n",
              " 'think',\n",
              " 'linux.ie',\n",
              " '+',\n",
              " '_______________________________________________',\n",
              " 'https',\n",
              " 'spam',\n",
              " \"'m\",\n",
              " 'group',\n",
              " 'said',\n",
              " 'date',\n",
              " 'linux',\n",
              " 'windows',\n",
              " 'file',\n",
              " 'url',\n",
              " '|',\n",
              " '////////////////////////////////////////////////////////////////////////////',\n",
              " 'wrote',\n",
              " '=0d']"
            ]
          },
          "metadata": {},
          "execution_count": 33
        }
      ]
    },
    {
      "cell_type": "code",
      "source": [
        "## training the model\n",
        "# -----------------------\n",
        "Phi_train = words_in_texts(distinguishing_word, train['email'])\n",
        "Phi_test = words_in_texts(distinguishing_word, val['email'])\n",
        "\n",
        "X_train = pd.DataFrame(data = Phi_train, columns = distinguishing_word)\n",
        "X_train[\"subject\"] = subject\n",
        "X_train[\"url_presence\"] = url_presence\n",
        "X_train = np.array(X_train)\n",
        "X_test = pd.DataFrame(data = Phi_test, columns = distinguishing_word)\n",
        "X_test[\"subject\"] = [1 if subj.startswith(\"Subject: Re: \") else 0 for subj in val[\"subject\"]]\n",
        "X_test[\"url_presence\"] = [1 if \"url: \" in email else 0 for email in val[\"email\"]]\n",
        "X_test = np.array(X_test)\n",
        "Y_train = np.array(train[\"spam\"])\n",
        "Y_test = np.array(val[\"spam\"])\n",
        "# -----------------------\n",
        "\n",
        "X_train[:5], Y_train[:5]"
      ],
      "metadata": {
        "colab": {
          "base_uri": "https://localhost:8080/"
        },
        "id": "0joIdeGTFBWh",
        "outputId": "aa8fd15b-a2ff-4c76-f833-5ad1658e9151"
      },
      "execution_count": 34,
      "outputs": [
        {
          "output_type": "execute_result",
          "data": {
            "text/plain": [
              "(array([[0, 0, 1, 0, 0, 0, 0, 0, 1, 1, 1, 0, 0, 0, 0, 0, 0, 0, 1, 0, 0, 0,\n",
              "         0, 0, 0, 0],\n",
              "        [0, 1, 1, 1, 1, 0, 0, 0, 1, 0, 0, 1, 1, 0, 0, 1, 0, 0, 0, 1, 0, 0,\n",
              "         0, 0, 0, 1],\n",
              "        [0, 0, 1, 1, 0, 1, 0, 0, 0, 1, 1, 1, 0, 0, 0, 0, 0, 0, 0, 0, 0, 0,\n",
              "         0, 0, 1, 0],\n",
              "        [0, 0, 1, 1, 1, 0, 0, 0, 0, 0, 0, 0, 0, 0, 1, 0, 0, 0, 0, 0, 0, 0,\n",
              "         0, 0, 0, 0],\n",
              "        [0, 1, 1, 0, 1, 0, 0, 0, 1, 0, 0, 1, 1, 1, 1, 1, 1, 0, 0, 1, 1, 0,\n",
              "         1, 1, 0, 0]]),\n",
              " array([0, 0, 0, 0, 0]))"
            ]
          },
          "metadata": {},
          "execution_count": 34
        }
      ]
    },
    {
      "cell_type": "code",
      "source": [
        "from sklearn.linear_model import LogisticRegression\n",
        "\n",
        "model = LogisticRegression()\n",
        "model.fit(X_train, Y_train)\n",
        "Y_train_prediction = model.predict(X_train)\n",
        "Y_test_prediction = model.predict(X_test)\n",
        "training_accuracy = sum(Y_train == Y_train_prediction)/len(train)\n",
        "testing_accuracy = sum(Y_test == Y_test_prediction)/len(val)\n",
        "# -----------------------\n",
        "tp = sum((Y_test ==1)& (Y_test_prediction ==1))\n",
        "fp = sum((Y_test ==0)& (Y_test_prediction ==1))\n",
        "fn = sum((Y_test ==1)& (Y_test_prediction==0))\n",
        "tn = len(Y_test)-(tp+fp+fn)\n",
        "precision = tp/(tp+fp)\n",
        "recall = tp/(tp+fn)\n",
        "\n",
        "print(\"Testing Accuracy: \")\n",
        "print(testing_accuracy)\n",
        "print(\"Testing precision:\")\n",
        "print(precision)\n",
        "print(\"Testing recall:\")\n",
        "print(recall)"
      ],
      "metadata": {
        "colab": {
          "base_uri": "https://localhost:8080/"
        },
        "id": "YpkunKYQFEaP",
        "outputId": "92db75bc-e312-4af3-c696-90932d8be70a"
      },
      "execution_count": 35,
      "outputs": [
        {
          "output_type": "stream",
          "name": "stdout",
          "text": [
            "Testing Accuracy: \n",
            "0.881437125748503\n",
            "Testing precision:\n",
            "0.7709251101321586\n",
            "Testing recall:\n",
            "0.7882882882882883\n"
          ]
        }
      ]
    },
    {
      "cell_type": "markdown",
      "metadata": {
        "id": "6YXT9eVw-c90"
      },
      "source": [
        "### Question 7: EDA\n",
        "\n",
        "In the cell below, show a visualization that you used to select features for your model. Include both\n",
        "\n",
        "1. A plot showing something meaningful about the data that helped you during feature / model selection.\n",
        "2. 2-3 sentences describing what you plotted and what its implications are for your features.\n",
        "\n",
        "Feel free to create as many plots as you want in your process of feature selection, but select one for the response cell below.\n",
        "\n",
        "**You should not just produce an identical visualization to question 3.** Specifically, don't show us a bar chart of proportions, or a one-dimensional class-conditional density plot. Any other plot is acceptable, as long as it comes with thoughtful commentary. Here are some ideas:\n",
        "\n",
        "1. Consider the correlation between multiple features (look up correlation plots and `sns.heatmap`). \n",
        "1. Try to show redundancy in a group of features (e.g. `body` and `html` might co-occur relatively frequently, or you might be able to design a feature that captures all html tags and compare it to these). \n",
        "1. Visualize which words have high or low values for some useful statistic.\n",
        "1. Visually depict whether spam emails tend to be wordier (in some sense) than ham emails."
      ]
    },
    {
      "cell_type": "markdown",
      "metadata": {
        "id": "w4dBsZ3L-c90"
      },
      "source": [
        "Generate your visualization in the cell below and provide your description in a comment.\n",
        "\n",
        "<!--\n",
        "BEGIN QUESTION\n",
        "name: q8\n",
        "manual: True\n",
        "format: image\n",
        "points: 6\n",
        "-->\n",
        "<!-- EXPORT TO PDF format:image -->"
      ]
    },
    {
      "cell_type": "code",
      "execution_count": 36,
      "metadata": {
        "id": "fFwkgESs-c90",
        "colab": {
          "base_uri": "https://localhost:8080/",
          "height": 964
        },
        "outputId": "e546e2bc-6fc0-45a9-b988-3ff24aef5b97"
      },
      "outputs": [
        {
          "output_type": "execute_result",
          "data": {
            "text/plain": [
              "<Axes: ylabel='label'>"
            ]
          },
          "metadata": {},
          "execution_count": 36
        },
        {
          "output_type": "display_data",
          "data": {
            "text/plain": [
              "<Figure size 2000x400 with 2 Axes>"
            ],
            "image/png": "[encoded data removed]"
          },
          "metadata": {}
        }
      ],
      "source": [
        "# Write your description (2-3 sentences) as a comment here:\n",
        "  # The HTML tag in the text of the email was removed, and words that appear a lot in spam mail but rarely in ham mail, or that appear a lot in spam mail but rarely in ham mail are extracted. \n",
        "  # I plot the heat map of information about how many emails contain the extracted word in each spam mail and ham mail. \n",
        "  # There are some words that a lot of ham mails contain, but spam mails don't. Using the characteristics of whether these words are included in the email text, a classifier was created to distinguish whether they are spam mail or not.\n",
        "\n",
        "# Write the code to generate your visualization here:\n",
        "X_train = pd.DataFrame(X_train)\n",
        "X_train.columns = distinguishing_word+[\"subject\", \"url_presence\"]\n",
        "X_train[\"label\"] = train[\"spam\"]\n",
        "data = X_train.replace({'label': {0 : 'Ham', 1 : 'Spam'}}).groupby(['label']).sum()\n",
        "plt.figure(figsize = (20,4))\n",
        "sns.heatmap(data)"
      ]
    },
    {
      "cell_type": "markdown",
      "metadata": {
        "id": "ltSWEnms-c90"
      },
      "source": [
        "### Question 8: Precision-Recall Curve\n",
        "\n",
        "We can trade off between precision and recall. In most cases we won't be able to get both perfect precision (i.e. no false positives) and recall (i.e. no false negatives), so we have to compromise.\n",
        "\n",
        "Recall that logistic regression calculates the probability that an example belongs to a certain class. \n",
        "* Then, to classify an example we say that an email is spam if our classifier gives it $\\ge 0.5$ probability of being spam. \n",
        "* However, *we can adjust that cutoff*: we can say that an email is spam only if our classifier gives it $\\ge 0.7$ probability of being spam. \n",
        "\n",
        "This is how we can trade off false positives and false negatives. The precision-recall curve shows this trade off for each possible cutoff probability. In the cell below, [plot a precision-recall curve](http://scikit-learn.org/stable/auto_examples/model_selection/plot_precision_recall.html#plot-the-precision-recall-curve) for your final classifier.\n",
        "\n",
        "<!--\n",
        "BEGIN QUESTION\n",
        "name: q9\n",
        "manual: True\n",
        "points: 3\n",
        "-->\n",
        "<!-- EXPORT TO PDF -->"
      ]
    },
    {
      "cell_type": "code",
      "execution_count": 38,
      "metadata": {
        "colab": {
          "base_uri": "https://localhost:8080/",
          "height": 499
        },
        "id": "nvi9Qw-U-c90",
        "outputId": "9f3f193a-c0f7-41b6-c73d-27e81ef5fd01"
      },
      "outputs": [
        {
          "output_type": "display_data",
          "data": {
            "text/plain": [
              "<Figure size 640x480 with 1 Axes>"
            ],
            "image/png": "[encoded data removed]"
          },
          "metadata": {}
        }
      ],
      "source": [
        "from sklearn.metrics import precision_recall_curve\n",
        "\n",
        "# Note that you'll want to use the .predict_proba(...) method for your classifier\n",
        "# instead of .predict(...) so you get probabilities, not classes\n",
        "\n",
        "# BEGIN YOUR CODE\n",
        "# -----------------------\n",
        "y_true = Y_test\n",
        "y_scores = Y_test_prediction\n",
        "\n",
        "# Compute precision and recall values\n",
        "precision, recall, thresholds = precision_recall_curve(y_true, y_scores)\n",
        "\n",
        "# Plot the PR curve\n",
        "plt.plot(recall, precision)\n",
        "\n",
        "# Set plot title and axis labels\n",
        "plt.title('Precision-Recall Curve')\n",
        "plt.xlabel('Recall')\n",
        "plt.ylabel('Precision')\n",
        "\n",
        "# Set plot axis limits\n",
        "plt.xlim([0.0, 1.0])\n",
        "plt.ylim([0.0, 1.0])\n",
        "\n",
        "# Show the plot\n",
        "plt.show()\n",
        "# -----------------------\n",
        "# END YOUR CODE"
      ]
    },
    {
      "cell_type": "markdown",
      "metadata": {
        "id": "DACE1sh--c90"
      },
      "source": [
        "### Congratulations! You have completed HW 3.\n",
        "\n",
        "Make sure you have run all cells in your notebook in order before running the cell below, so that all images/graphs appear in the output.,\n",
        "\n",
        "**Please save before submitting!**\n",
        "\n",
        "Please generate pdf as follows and submit it to Gradescope.\n",
        "\n",
        "**File > Print Preview > Print > Save as pdf**\n",
        "\n",
        "<!-- EXPECT 9 EXPORTED QUESTIONS -->"
      ]
    },
    {
      "cell_type": "code",
      "execution_count": 37,
      "metadata": {
        "id": "5gFfL6Nr0p-K"
      },
      "outputs": [],
      "source": []
    }
  ],
  "metadata": {
    "colab": {
      "provenance": []
    },
    "kernelspec": {
      "display_name": "Python 3",
      "language": "python",
      "name": "python3"
    },
    "language_info": {
      "codemirror_mode": {
        "name": "ipython",
        "version": 3
      },
      "file_extension": ".py",
      "mimetype": "text/x-python",
      "name": "python",
      "nbconvert_exporter": "python",
      "pygments_lexer": "ipython3",
      "version": "3.5.5"
    },
    "toc": {
      "base_numbering": 1,
      "nav_menu": {},
      "number_sections": false,
      "sideBar": true,
      "skip_h1_title": false,
      "title_cell": "Table of Contents",
      "title_sidebar": "Contents",
      "toc_cell": false,
      "toc_position": {},
      "toc_section_display": true,
      "toc_window_display": false
    }
  },
  "nbformat": 4,
  "nbformat_minor": 0
}